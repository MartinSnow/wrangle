{
 "cells": [
  {
   "cell_type": "markdown",
   "metadata": {
    "collapsed": true
   },
   "source": [
    "# 项目：清洗与分析数据"
   ]
  },
  {
   "cell_type": "markdown",
   "metadata": {},
   "source": [
    "## 数据收集"
   ]
  },
  {
   "cell_type": "code",
   "execution_count": 1,
   "metadata": {},
   "outputs": [],
   "source": [
    "import pandas as pd\n",
    "import numpy as np\n",
    "import requests\n",
    "import json\n",
    "import matplotlib.pyplot as plt\n",
    "% matplotlib inline\n",
    "\n",
    "#from bs4 import BeautifulSoup"
   ]
  },
  {
   "cell_type": "markdown",
   "metadata": {},
   "source": [
    "收集来自本地的*平面文件*"
   ]
  },
  {
   "cell_type": "code",
   "execution_count": 2,
   "metadata": {},
   "outputs": [],
   "source": [
    "twitter = pd.read_csv('twitter_archive_enhanced.csv')"
   ]
  },
  {
   "cell_type": "markdown",
   "metadata": {},
   "source": [
    "收集从互联网下载的文件"
   ]
  },
  {
   "cell_type": "code",
   "execution_count": 3,
   "metadata": {},
   "outputs": [],
   "source": [
    "# 下载完成后将这段代码进行注释，防止反复下载。\n",
    "# url = 'https://raw.githubusercontent.com/udacity/new-dand-advanced-china/master/%E6%95%B0%E6%8D%AE%E6%B8%85%E6%B4%97/WeRateDogs%E9%A1%B9%E7%9B%AE/image-predictions.tsv'\n",
    "# response = requests.get(url)\n",
    "# file_name = url.split('/')[-1]\n",
    "# with open(file_name, mode='wb') as file:\n",
    "#    file.write(response.content)"
   ]
  },
  {
   "cell_type": "code",
   "execution_count": 4,
   "metadata": {},
   "outputs": [],
   "source": [
    "prediction = pd.read_csv('image-predictions.tsv', sep='\\t')"
   ]
  },
  {
   "cell_type": "markdown",
   "metadata": {},
   "source": [
    "由于无法访问Twitter，本项目直接使用课程提供的Twitter返回数据`tweet_json.txt`。每个推特的 *JSON* 数据应当写入单独一行。然后将这个 `.txt` 文件逐行读入一个 `pandas DataFrame` 中，至少包含 **tweet ID**、**retweet_count** 和 **favorite_count** 字段。"
   ]
  },
  {
   "cell_type": "code",
   "execution_count": 5,
   "metadata": {},
   "outputs": [],
   "source": [
    "import json"
   ]
  },
  {
   "cell_type": "code",
   "execution_count": 6,
   "metadata": {},
   "outputs": [],
   "source": [
    "tweet_list = []\n",
    "with open('tweet_json.txt') as file:\n",
    "    lines = file.readlines()\n",
    "    for line in lines:\n",
    "        line_json = json.loads(line)\n",
    "        tweet_id = line_json['id_str']\n",
    "        retweet_count = line_json['retweet_count']\n",
    "        favorite_count = line_json['favorite_count']\n",
    "        \n",
    "        tweet_list.append({'tweet_id': tweet_id,\n",
    "                           'retweet_count': retweet_count,\n",
    "                           'favorite_count': favorite_count})\n",
    "extra = pd.DataFrame(tweet_list, columns=['tweet_id', 'retweet_count', 'favorite_count'])"
   ]
  },
  {
   "cell_type": "markdown",
   "metadata": {},
   "source": [
    "## 数据评估"
   ]
  },
  {
   "cell_type": "code",
   "execution_count": 7,
   "metadata": {
    "scrolled": false
   },
   "outputs": [
    {
     "data": {
      "text/html": [
       "<div>\n",
       "<style scoped>\n",
       "    .dataframe tbody tr th:only-of-type {\n",
       "        vertical-align: middle;\n",
       "    }\n",
       "\n",
       "    .dataframe tbody tr th {\n",
       "        vertical-align: top;\n",
       "    }\n",
       "\n",
       "    .dataframe thead th {\n",
       "        text-align: right;\n",
       "    }\n",
       "</style>\n",
       "<table border=\"1\" class=\"dataframe\">\n",
       "  <thead>\n",
       "    <tr style=\"text-align: right;\">\n",
       "      <th></th>\n",
       "      <th>tweet_id</th>\n",
       "      <th>in_reply_to_status_id</th>\n",
       "      <th>in_reply_to_user_id</th>\n",
       "      <th>timestamp</th>\n",
       "      <th>source</th>\n",
       "      <th>text</th>\n",
       "      <th>retweeted_status_id</th>\n",
       "      <th>retweeted_status_user_id</th>\n",
       "      <th>retweeted_status_timestamp</th>\n",
       "      <th>expanded_urls</th>\n",
       "      <th>rating_numerator</th>\n",
       "      <th>rating_denominator</th>\n",
       "      <th>name</th>\n",
       "      <th>doggo</th>\n",
       "      <th>floofer</th>\n",
       "      <th>pupper</th>\n",
       "      <th>puppo</th>\n",
       "    </tr>\n",
       "  </thead>\n",
       "  <tbody>\n",
       "    <tr>\n",
       "      <th>0</th>\n",
       "      <td>892420643555336193</td>\n",
       "      <td>NaN</td>\n",
       "      <td>NaN</td>\n",
       "      <td>2017-08-01 16:23:56 +0000</td>\n",
       "      <td>&lt;a href=\"http://twitter.com/download/iphone\" r...</td>\n",
       "      <td>This is Phineas. He's a mystical boy. Only eve...</td>\n",
       "      <td>NaN</td>\n",
       "      <td>NaN</td>\n",
       "      <td>NaN</td>\n",
       "      <td>https://twitter.com/dog_rates/status/892420643...</td>\n",
       "      <td>13</td>\n",
       "      <td>10</td>\n",
       "      <td>Phineas</td>\n",
       "      <td>None</td>\n",
       "      <td>None</td>\n",
       "      <td>None</td>\n",
       "      <td>None</td>\n",
       "    </tr>\n",
       "    <tr>\n",
       "      <th>1</th>\n",
       "      <td>892177421306343426</td>\n",
       "      <td>NaN</td>\n",
       "      <td>NaN</td>\n",
       "      <td>2017-08-01 00:17:27 +0000</td>\n",
       "      <td>&lt;a href=\"http://twitter.com/download/iphone\" r...</td>\n",
       "      <td>This is Tilly. She's just checking pup on you....</td>\n",
       "      <td>NaN</td>\n",
       "      <td>NaN</td>\n",
       "      <td>NaN</td>\n",
       "      <td>https://twitter.com/dog_rates/status/892177421...</td>\n",
       "      <td>13</td>\n",
       "      <td>10</td>\n",
       "      <td>Tilly</td>\n",
       "      <td>None</td>\n",
       "      <td>None</td>\n",
       "      <td>None</td>\n",
       "      <td>None</td>\n",
       "    </tr>\n",
       "    <tr>\n",
       "      <th>2</th>\n",
       "      <td>891815181378084864</td>\n",
       "      <td>NaN</td>\n",
       "      <td>NaN</td>\n",
       "      <td>2017-07-31 00:18:03 +0000</td>\n",
       "      <td>&lt;a href=\"http://twitter.com/download/iphone\" r...</td>\n",
       "      <td>This is Archie. He is a rare Norwegian Pouncin...</td>\n",
       "      <td>NaN</td>\n",
       "      <td>NaN</td>\n",
       "      <td>NaN</td>\n",
       "      <td>https://twitter.com/dog_rates/status/891815181...</td>\n",
       "      <td>12</td>\n",
       "      <td>10</td>\n",
       "      <td>Archie</td>\n",
       "      <td>None</td>\n",
       "      <td>None</td>\n",
       "      <td>None</td>\n",
       "      <td>None</td>\n",
       "    </tr>\n",
       "    <tr>\n",
       "      <th>3</th>\n",
       "      <td>891689557279858688</td>\n",
       "      <td>NaN</td>\n",
       "      <td>NaN</td>\n",
       "      <td>2017-07-30 15:58:51 +0000</td>\n",
       "      <td>&lt;a href=\"http://twitter.com/download/iphone\" r...</td>\n",
       "      <td>This is Darla. She commenced a snooze mid meal...</td>\n",
       "      <td>NaN</td>\n",
       "      <td>NaN</td>\n",
       "      <td>NaN</td>\n",
       "      <td>https://twitter.com/dog_rates/status/891689557...</td>\n",
       "      <td>13</td>\n",
       "      <td>10</td>\n",
       "      <td>Darla</td>\n",
       "      <td>None</td>\n",
       "      <td>None</td>\n",
       "      <td>None</td>\n",
       "      <td>None</td>\n",
       "    </tr>\n",
       "    <tr>\n",
       "      <th>4</th>\n",
       "      <td>891327558926688256</td>\n",
       "      <td>NaN</td>\n",
       "      <td>NaN</td>\n",
       "      <td>2017-07-29 16:00:24 +0000</td>\n",
       "      <td>&lt;a href=\"http://twitter.com/download/iphone\" r...</td>\n",
       "      <td>This is Franklin. He would like you to stop ca...</td>\n",
       "      <td>NaN</td>\n",
       "      <td>NaN</td>\n",
       "      <td>NaN</td>\n",
       "      <td>https://twitter.com/dog_rates/status/891327558...</td>\n",
       "      <td>12</td>\n",
       "      <td>10</td>\n",
       "      <td>Franklin</td>\n",
       "      <td>None</td>\n",
       "      <td>None</td>\n",
       "      <td>None</td>\n",
       "      <td>None</td>\n",
       "    </tr>\n",
       "  </tbody>\n",
       "</table>\n",
       "</div>"
      ],
      "text/plain": [
       "             tweet_id  in_reply_to_status_id  in_reply_to_user_id  \\\n",
       "0  892420643555336193                    NaN                  NaN   \n",
       "1  892177421306343426                    NaN                  NaN   \n",
       "2  891815181378084864                    NaN                  NaN   \n",
       "3  891689557279858688                    NaN                  NaN   \n",
       "4  891327558926688256                    NaN                  NaN   \n",
       "\n",
       "                   timestamp  \\\n",
       "0  2017-08-01 16:23:56 +0000   \n",
       "1  2017-08-01 00:17:27 +0000   \n",
       "2  2017-07-31 00:18:03 +0000   \n",
       "3  2017-07-30 15:58:51 +0000   \n",
       "4  2017-07-29 16:00:24 +0000   \n",
       "\n",
       "                                              source  \\\n",
       "0  <a href=\"http://twitter.com/download/iphone\" r...   \n",
       "1  <a href=\"http://twitter.com/download/iphone\" r...   \n",
       "2  <a href=\"http://twitter.com/download/iphone\" r...   \n",
       "3  <a href=\"http://twitter.com/download/iphone\" r...   \n",
       "4  <a href=\"http://twitter.com/download/iphone\" r...   \n",
       "\n",
       "                                                text  retweeted_status_id  \\\n",
       "0  This is Phineas. He's a mystical boy. Only eve...                  NaN   \n",
       "1  This is Tilly. She's just checking pup on you....                  NaN   \n",
       "2  This is Archie. He is a rare Norwegian Pouncin...                  NaN   \n",
       "3  This is Darla. She commenced a snooze mid meal...                  NaN   \n",
       "4  This is Franklin. He would like you to stop ca...                  NaN   \n",
       "\n",
       "   retweeted_status_user_id retweeted_status_timestamp  \\\n",
       "0                       NaN                        NaN   \n",
       "1                       NaN                        NaN   \n",
       "2                       NaN                        NaN   \n",
       "3                       NaN                        NaN   \n",
       "4                       NaN                        NaN   \n",
       "\n",
       "                                       expanded_urls  rating_numerator  \\\n",
       "0  https://twitter.com/dog_rates/status/892420643...                13   \n",
       "1  https://twitter.com/dog_rates/status/892177421...                13   \n",
       "2  https://twitter.com/dog_rates/status/891815181...                12   \n",
       "3  https://twitter.com/dog_rates/status/891689557...                13   \n",
       "4  https://twitter.com/dog_rates/status/891327558...                12   \n",
       "\n",
       "   rating_denominator      name doggo floofer pupper puppo  \n",
       "0                  10   Phineas  None    None   None  None  \n",
       "1                  10     Tilly  None    None   None  None  \n",
       "2                  10    Archie  None    None   None  None  \n",
       "3                  10     Darla  None    None   None  None  \n",
       "4                  10  Franklin  None    None   None  None  "
      ]
     },
     "execution_count": 7,
     "metadata": {},
     "output_type": "execute_result"
    }
   ],
   "source": [
    "twitter.head()"
   ]
  },
  {
   "cell_type": "code",
   "execution_count": 8,
   "metadata": {},
   "outputs": [
    {
     "data": {
      "text/html": [
       "<div>\n",
       "<style scoped>\n",
       "    .dataframe tbody tr th:only-of-type {\n",
       "        vertical-align: middle;\n",
       "    }\n",
       "\n",
       "    .dataframe tbody tr th {\n",
       "        vertical-align: top;\n",
       "    }\n",
       "\n",
       "    .dataframe thead th {\n",
       "        text-align: right;\n",
       "    }\n",
       "</style>\n",
       "<table border=\"1\" class=\"dataframe\">\n",
       "  <thead>\n",
       "    <tr style=\"text-align: right;\">\n",
       "      <th></th>\n",
       "      <th>tweet_id</th>\n",
       "      <th>in_reply_to_status_id</th>\n",
       "      <th>in_reply_to_user_id</th>\n",
       "      <th>timestamp</th>\n",
       "      <th>source</th>\n",
       "      <th>text</th>\n",
       "      <th>retweeted_status_id</th>\n",
       "      <th>retweeted_status_user_id</th>\n",
       "      <th>retweeted_status_timestamp</th>\n",
       "      <th>expanded_urls</th>\n",
       "      <th>rating_numerator</th>\n",
       "      <th>rating_denominator</th>\n",
       "      <th>name</th>\n",
       "      <th>doggo</th>\n",
       "      <th>floofer</th>\n",
       "      <th>pupper</th>\n",
       "      <th>puppo</th>\n",
       "    </tr>\n",
       "  </thead>\n",
       "  <tbody>\n",
       "    <tr>\n",
       "      <th>2351</th>\n",
       "      <td>666049248165822465</td>\n",
       "      <td>NaN</td>\n",
       "      <td>NaN</td>\n",
       "      <td>2015-11-16 00:24:50 +0000</td>\n",
       "      <td>&lt;a href=\"http://twitter.com/download/iphone\" r...</td>\n",
       "      <td>Here we have a 1949 1st generation vulpix. Enj...</td>\n",
       "      <td>NaN</td>\n",
       "      <td>NaN</td>\n",
       "      <td>NaN</td>\n",
       "      <td>https://twitter.com/dog_rates/status/666049248...</td>\n",
       "      <td>5</td>\n",
       "      <td>10</td>\n",
       "      <td>None</td>\n",
       "      <td>None</td>\n",
       "      <td>None</td>\n",
       "      <td>None</td>\n",
       "      <td>None</td>\n",
       "    </tr>\n",
       "    <tr>\n",
       "      <th>2352</th>\n",
       "      <td>666044226329800704</td>\n",
       "      <td>NaN</td>\n",
       "      <td>NaN</td>\n",
       "      <td>2015-11-16 00:04:52 +0000</td>\n",
       "      <td>&lt;a href=\"http://twitter.com/download/iphone\" r...</td>\n",
       "      <td>This is a purebred Piers Morgan. Loves to Netf...</td>\n",
       "      <td>NaN</td>\n",
       "      <td>NaN</td>\n",
       "      <td>NaN</td>\n",
       "      <td>https://twitter.com/dog_rates/status/666044226...</td>\n",
       "      <td>6</td>\n",
       "      <td>10</td>\n",
       "      <td>a</td>\n",
       "      <td>None</td>\n",
       "      <td>None</td>\n",
       "      <td>None</td>\n",
       "      <td>None</td>\n",
       "    </tr>\n",
       "    <tr>\n",
       "      <th>2353</th>\n",
       "      <td>666033412701032449</td>\n",
       "      <td>NaN</td>\n",
       "      <td>NaN</td>\n",
       "      <td>2015-11-15 23:21:54 +0000</td>\n",
       "      <td>&lt;a href=\"http://twitter.com/download/iphone\" r...</td>\n",
       "      <td>Here is a very happy pup. Big fan of well-main...</td>\n",
       "      <td>NaN</td>\n",
       "      <td>NaN</td>\n",
       "      <td>NaN</td>\n",
       "      <td>https://twitter.com/dog_rates/status/666033412...</td>\n",
       "      <td>9</td>\n",
       "      <td>10</td>\n",
       "      <td>a</td>\n",
       "      <td>None</td>\n",
       "      <td>None</td>\n",
       "      <td>None</td>\n",
       "      <td>None</td>\n",
       "    </tr>\n",
       "    <tr>\n",
       "      <th>2354</th>\n",
       "      <td>666029285002620928</td>\n",
       "      <td>NaN</td>\n",
       "      <td>NaN</td>\n",
       "      <td>2015-11-15 23:05:30 +0000</td>\n",
       "      <td>&lt;a href=\"http://twitter.com/download/iphone\" r...</td>\n",
       "      <td>This is a western brown Mitsubishi terrier. Up...</td>\n",
       "      <td>NaN</td>\n",
       "      <td>NaN</td>\n",
       "      <td>NaN</td>\n",
       "      <td>https://twitter.com/dog_rates/status/666029285...</td>\n",
       "      <td>7</td>\n",
       "      <td>10</td>\n",
       "      <td>a</td>\n",
       "      <td>None</td>\n",
       "      <td>None</td>\n",
       "      <td>None</td>\n",
       "      <td>None</td>\n",
       "    </tr>\n",
       "    <tr>\n",
       "      <th>2355</th>\n",
       "      <td>666020888022790149</td>\n",
       "      <td>NaN</td>\n",
       "      <td>NaN</td>\n",
       "      <td>2015-11-15 22:32:08 +0000</td>\n",
       "      <td>&lt;a href=\"http://twitter.com/download/iphone\" r...</td>\n",
       "      <td>Here we have a Japanese Irish Setter. Lost eye...</td>\n",
       "      <td>NaN</td>\n",
       "      <td>NaN</td>\n",
       "      <td>NaN</td>\n",
       "      <td>https://twitter.com/dog_rates/status/666020888...</td>\n",
       "      <td>8</td>\n",
       "      <td>10</td>\n",
       "      <td>None</td>\n",
       "      <td>None</td>\n",
       "      <td>None</td>\n",
       "      <td>None</td>\n",
       "      <td>None</td>\n",
       "    </tr>\n",
       "  </tbody>\n",
       "</table>\n",
       "</div>"
      ],
      "text/plain": [
       "                tweet_id  in_reply_to_status_id  in_reply_to_user_id  \\\n",
       "2351  666049248165822465                    NaN                  NaN   \n",
       "2352  666044226329800704                    NaN                  NaN   \n",
       "2353  666033412701032449                    NaN                  NaN   \n",
       "2354  666029285002620928                    NaN                  NaN   \n",
       "2355  666020888022790149                    NaN                  NaN   \n",
       "\n",
       "                      timestamp  \\\n",
       "2351  2015-11-16 00:24:50 +0000   \n",
       "2352  2015-11-16 00:04:52 +0000   \n",
       "2353  2015-11-15 23:21:54 +0000   \n",
       "2354  2015-11-15 23:05:30 +0000   \n",
       "2355  2015-11-15 22:32:08 +0000   \n",
       "\n",
       "                                                 source  \\\n",
       "2351  <a href=\"http://twitter.com/download/iphone\" r...   \n",
       "2352  <a href=\"http://twitter.com/download/iphone\" r...   \n",
       "2353  <a href=\"http://twitter.com/download/iphone\" r...   \n",
       "2354  <a href=\"http://twitter.com/download/iphone\" r...   \n",
       "2355  <a href=\"http://twitter.com/download/iphone\" r...   \n",
       "\n",
       "                                                   text  retweeted_status_id  \\\n",
       "2351  Here we have a 1949 1st generation vulpix. Enj...                  NaN   \n",
       "2352  This is a purebred Piers Morgan. Loves to Netf...                  NaN   \n",
       "2353  Here is a very happy pup. Big fan of well-main...                  NaN   \n",
       "2354  This is a western brown Mitsubishi terrier. Up...                  NaN   \n",
       "2355  Here we have a Japanese Irish Setter. Lost eye...                  NaN   \n",
       "\n",
       "      retweeted_status_user_id retweeted_status_timestamp  \\\n",
       "2351                       NaN                        NaN   \n",
       "2352                       NaN                        NaN   \n",
       "2353                       NaN                        NaN   \n",
       "2354                       NaN                        NaN   \n",
       "2355                       NaN                        NaN   \n",
       "\n",
       "                                          expanded_urls  rating_numerator  \\\n",
       "2351  https://twitter.com/dog_rates/status/666049248...                 5   \n",
       "2352  https://twitter.com/dog_rates/status/666044226...                 6   \n",
       "2353  https://twitter.com/dog_rates/status/666033412...                 9   \n",
       "2354  https://twitter.com/dog_rates/status/666029285...                 7   \n",
       "2355  https://twitter.com/dog_rates/status/666020888...                 8   \n",
       "\n",
       "      rating_denominator  name doggo floofer pupper puppo  \n",
       "2351                  10  None  None    None   None  None  \n",
       "2352                  10     a  None    None   None  None  \n",
       "2353                  10     a  None    None   None  None  \n",
       "2354                  10     a  None    None   None  None  \n",
       "2355                  10  None  None    None   None  None  "
      ]
     },
     "execution_count": 8,
     "metadata": {},
     "output_type": "execute_result"
    }
   ],
   "source": [
    "twitter.tail()"
   ]
  },
  {
   "cell_type": "code",
   "execution_count": 9,
   "metadata": {},
   "outputs": [
    {
     "data": {
      "text/plain": [
       "0"
      ]
     },
     "execution_count": 9,
     "metadata": {},
     "output_type": "execute_result"
    }
   ],
   "source": [
    "sum(twitter.tweet_id.duplicated())"
   ]
  },
  {
   "cell_type": "code",
   "execution_count": 10,
   "metadata": {},
   "outputs": [
    {
     "data": {
      "text/plain": [
       "12      558\n",
       "11      464\n",
       "10      461\n",
       "13      351\n",
       "9       158\n",
       "8       102\n",
       "7        55\n",
       "14       54\n",
       "5        37\n",
       "6        32\n",
       "3        19\n",
       "4        17\n",
       "1         9\n",
       "2         9\n",
       "420       2\n",
       "0         2\n",
       "15        2\n",
       "75        2\n",
       "80        1\n",
       "20        1\n",
       "24        1\n",
       "26        1\n",
       "44        1\n",
       "50        1\n",
       "60        1\n",
       "165       1\n",
       "84        1\n",
       "88        1\n",
       "144       1\n",
       "182       1\n",
       "143       1\n",
       "666       1\n",
       "960       1\n",
       "1776      1\n",
       "17        1\n",
       "27        1\n",
       "45        1\n",
       "99        1\n",
       "121       1\n",
       "204       1\n",
       "Name: rating_numerator, dtype: int64"
      ]
     },
     "execution_count": 10,
     "metadata": {},
     "output_type": "execute_result"
    }
   ],
   "source": [
    "twitter.rating_numerator.value_counts()"
   ]
  },
  {
   "cell_type": "code",
   "execution_count": 11,
   "metadata": {},
   "outputs": [
    {
     "data": {
      "text/plain": [
       "2356"
      ]
     },
     "execution_count": 11,
     "metadata": {},
     "output_type": "execute_result"
    }
   ],
   "source": [
    "sum(twitter.rating_numerator.value_counts())"
   ]
  },
  {
   "cell_type": "code",
   "execution_count": 12,
   "metadata": {},
   "outputs": [
    {
     "data": {
      "text/plain": [
       "10     2333\n",
       "11        3\n",
       "50        3\n",
       "80        2\n",
       "20        2\n",
       "2         1\n",
       "16        1\n",
       "40        1\n",
       "70        1\n",
       "15        1\n",
       "90        1\n",
       "110       1\n",
       "120       1\n",
       "130       1\n",
       "150       1\n",
       "170       1\n",
       "7         1\n",
       "0         1\n",
       "Name: rating_denominator, dtype: int64"
      ]
     },
     "execution_count": 12,
     "metadata": {},
     "output_type": "execute_result"
    }
   ],
   "source": [
    "twitter.rating_denominator.value_counts()"
   ]
  },
  {
   "cell_type": "code",
   "execution_count": 13,
   "metadata": {},
   "outputs": [
    {
     "data": {
      "text/plain": [
       "2356"
      ]
     },
     "execution_count": 13,
     "metadata": {},
     "output_type": "execute_result"
    }
   ],
   "source": [
    "sum(twitter.rating_denominator.value_counts())"
   ]
  },
  {
   "cell_type": "code",
   "execution_count": 14,
   "metadata": {},
   "outputs": [
    {
     "data": {
      "text/plain": [
       "'This is a purebred Piers Morgan. Loves to Netflix and chill. Always looks like he forgot to unplug the iron. 6/10 https://t.co/DWnyCjf2mx'"
      ]
     },
     "execution_count": 14,
     "metadata": {},
     "output_type": "execute_result"
    }
   ],
   "source": [
    "twitter.iloc[2352]['text']"
   ]
  },
  {
   "cell_type": "code",
   "execution_count": 15,
   "metadata": {},
   "outputs": [
    {
     "data": {
      "text/plain": [
       "None         745\n",
       "a             55\n",
       "Charlie       12\n",
       "Oliver        11\n",
       "Lucy          11\n",
       "Cooper        11\n",
       "Lola          10\n",
       "Tucker        10\n",
       "Penny         10\n",
       "Winston        9\n",
       "Bo             9\n",
       "the            8\n",
       "Sadie          8\n",
       "Buddy          7\n",
       "Toby           7\n",
       "an             7\n",
       "Daisy          7\n",
       "Bailey         7\n",
       "Milo           6\n",
       "Leo            6\n",
       "Dave           6\n",
       "Rusty          6\n",
       "Koda           6\n",
       "Bella          6\n",
       "Jax            6\n",
       "Jack           6\n",
       "Oscar          6\n",
       "Scout          6\n",
       "Stanley        6\n",
       "Sunny          5\n",
       "            ... \n",
       "Aldrick        1\n",
       "Crumpet        1\n",
       "Jaycob         1\n",
       "Ambrose        1\n",
       "Sparky         1\n",
       "Eugene         1\n",
       "Tanner         1\n",
       "Maya           1\n",
       "Cermet         1\n",
       "Ricky          1\n",
       "Rumble         1\n",
       "Henry          1\n",
       "Kallie         1\n",
       "Durg           1\n",
       "Torque         1\n",
       "Charleson      1\n",
       "Nico           1\n",
       "Striker        1\n",
       "Laela          1\n",
       "Yukon          1\n",
       "Emma           1\n",
       "Gerbald        1\n",
       "Lillie         1\n",
       "Lorelei        1\n",
       "Georgie        1\n",
       "Hermione       1\n",
       "Rose           1\n",
       "Ruffles        1\n",
       "Leonard        1\n",
       "Anna           1\n",
       "Name: name, Length: 957, dtype: int64"
      ]
     },
     "execution_count": 15,
     "metadata": {},
     "output_type": "execute_result"
    }
   ],
   "source": [
    "twitter.name.value_counts()"
   ]
  },
  {
   "cell_type": "code",
   "execution_count": 16,
   "metadata": {},
   "outputs": [
    {
     "name": "stdout",
     "output_type": "stream",
     "text": [
      "<class 'pandas.core.frame.DataFrame'>\n",
      "RangeIndex: 2356 entries, 0 to 2355\n",
      "Data columns (total 17 columns):\n",
      "tweet_id                      2356 non-null int64\n",
      "in_reply_to_status_id         78 non-null float64\n",
      "in_reply_to_user_id           78 non-null float64\n",
      "timestamp                     2356 non-null object\n",
      "source                        2356 non-null object\n",
      "text                          2356 non-null object\n",
      "retweeted_status_id           181 non-null float64\n",
      "retweeted_status_user_id      181 non-null float64\n",
      "retweeted_status_timestamp    181 non-null object\n",
      "expanded_urls                 2297 non-null object\n",
      "rating_numerator              2356 non-null int64\n",
      "rating_denominator            2356 non-null int64\n",
      "name                          2356 non-null object\n",
      "doggo                         2356 non-null object\n",
      "floofer                       2356 non-null object\n",
      "pupper                        2356 non-null object\n",
      "puppo                         2356 non-null object\n",
      "dtypes: float64(4), int64(3), object(10)\n",
      "memory usage: 313.0+ KB\n"
     ]
    }
   ],
   "source": [
    "twitter.info()"
   ]
  },
  {
   "cell_type": "code",
   "execution_count": 17,
   "metadata": {},
   "outputs": [
    {
     "data": {
      "text/html": [
       "<div>\n",
       "<style scoped>\n",
       "    .dataframe tbody tr th:only-of-type {\n",
       "        vertical-align: middle;\n",
       "    }\n",
       "\n",
       "    .dataframe tbody tr th {\n",
       "        vertical-align: top;\n",
       "    }\n",
       "\n",
       "    .dataframe thead th {\n",
       "        text-align: right;\n",
       "    }\n",
       "</style>\n",
       "<table border=\"1\" class=\"dataframe\">\n",
       "  <thead>\n",
       "    <tr style=\"text-align: right;\">\n",
       "      <th></th>\n",
       "      <th>tweet_id</th>\n",
       "      <th>jpg_url</th>\n",
       "      <th>img_num</th>\n",
       "      <th>p1</th>\n",
       "      <th>p1_conf</th>\n",
       "      <th>p1_dog</th>\n",
       "      <th>p2</th>\n",
       "      <th>p2_conf</th>\n",
       "      <th>p2_dog</th>\n",
       "      <th>p3</th>\n",
       "      <th>p3_conf</th>\n",
       "      <th>p3_dog</th>\n",
       "    </tr>\n",
       "  </thead>\n",
       "  <tbody>\n",
       "    <tr>\n",
       "      <th>1318</th>\n",
       "      <td>755955933503782912</td>\n",
       "      <td>https://pbs.twimg.com/ext_tw_video_thumb/75595...</td>\n",
       "      <td>1</td>\n",
       "      <td>Pekinese</td>\n",
       "      <td>0.596882</td>\n",
       "      <td>True</td>\n",
       "      <td>Maltese_dog</td>\n",
       "      <td>0.176478</td>\n",
       "      <td>True</td>\n",
       "      <td>Great_Pyrenees</td>\n",
       "      <td>0.026775</td>\n",
       "      <td>True</td>\n",
       "    </tr>\n",
       "    <tr>\n",
       "      <th>974</th>\n",
       "      <td>706901761596989440</td>\n",
       "      <td>https://pbs.twimg.com/media/Cc9rZlBWwAA56Ra.jpg</td>\n",
       "      <td>1</td>\n",
       "      <td>wild_boar</td>\n",
       "      <td>0.859499</td>\n",
       "      <td>False</td>\n",
       "      <td>hog</td>\n",
       "      <td>0.128981</td>\n",
       "      <td>False</td>\n",
       "      <td>warthog</td>\n",
       "      <td>0.011318</td>\n",
       "      <td>False</td>\n",
       "    </tr>\n",
       "    <tr>\n",
       "      <th>1457</th>\n",
       "      <td>777684233540206592</td>\n",
       "      <td>https://pbs.twimg.com/media/CsrjryzWgAAZY00.jpg</td>\n",
       "      <td>1</td>\n",
       "      <td>cocker_spaniel</td>\n",
       "      <td>0.253442</td>\n",
       "      <td>True</td>\n",
       "      <td>golden_retriever</td>\n",
       "      <td>0.162850</td>\n",
       "      <td>True</td>\n",
       "      <td>otterhound</td>\n",
       "      <td>0.110921</td>\n",
       "      <td>True</td>\n",
       "    </tr>\n",
       "    <tr>\n",
       "      <th>988</th>\n",
       "      <td>707776935007539200</td>\n",
       "      <td>https://pbs.twimg.com/media/CdKHWimWoAABs08.jpg</td>\n",
       "      <td>1</td>\n",
       "      <td>miniature_pinscher</td>\n",
       "      <td>0.890426</td>\n",
       "      <td>True</td>\n",
       "      <td>toy_terrier</td>\n",
       "      <td>0.051335</td>\n",
       "      <td>True</td>\n",
       "      <td>Chihuahua</td>\n",
       "      <td>0.018015</td>\n",
       "      <td>True</td>\n",
       "    </tr>\n",
       "    <tr>\n",
       "      <th>2068</th>\n",
       "      <td>890971913173991426</td>\n",
       "      <td>https://pbs.twimg.com/media/DF1eOmZXUAALUcq.jpg</td>\n",
       "      <td>1</td>\n",
       "      <td>Appenzeller</td>\n",
       "      <td>0.341703</td>\n",
       "      <td>True</td>\n",
       "      <td>Border_collie</td>\n",
       "      <td>0.199287</td>\n",
       "      <td>True</td>\n",
       "      <td>ice_lolly</td>\n",
       "      <td>0.193548</td>\n",
       "      <td>False</td>\n",
       "    </tr>\n",
       "  </tbody>\n",
       "</table>\n",
       "</div>"
      ],
      "text/plain": [
       "                tweet_id                                            jpg_url  \\\n",
       "1318  755955933503782912  https://pbs.twimg.com/ext_tw_video_thumb/75595...   \n",
       "974   706901761596989440    https://pbs.twimg.com/media/Cc9rZlBWwAA56Ra.jpg   \n",
       "1457  777684233540206592    https://pbs.twimg.com/media/CsrjryzWgAAZY00.jpg   \n",
       "988   707776935007539200    https://pbs.twimg.com/media/CdKHWimWoAABs08.jpg   \n",
       "2068  890971913173991426    https://pbs.twimg.com/media/DF1eOmZXUAALUcq.jpg   \n",
       "\n",
       "      img_num                  p1   p1_conf  p1_dog                p2  \\\n",
       "1318        1            Pekinese  0.596882    True       Maltese_dog   \n",
       "974         1           wild_boar  0.859499   False               hog   \n",
       "1457        1      cocker_spaniel  0.253442    True  golden_retriever   \n",
       "988         1  miniature_pinscher  0.890426    True       toy_terrier   \n",
       "2068        1         Appenzeller  0.341703    True     Border_collie   \n",
       "\n",
       "       p2_conf  p2_dog              p3   p3_conf  p3_dog  \n",
       "1318  0.176478    True  Great_Pyrenees  0.026775    True  \n",
       "974   0.128981   False         warthog  0.011318   False  \n",
       "1457  0.162850    True      otterhound  0.110921    True  \n",
       "988   0.051335    True       Chihuahua  0.018015    True  \n",
       "2068  0.199287    True       ice_lolly  0.193548   False  "
      ]
     },
     "execution_count": 17,
     "metadata": {},
     "output_type": "execute_result"
    }
   ],
   "source": [
    "prediction.sample(5)"
   ]
  },
  {
   "cell_type": "code",
   "execution_count": 18,
   "metadata": {},
   "outputs": [
    {
     "name": "stdout",
     "output_type": "stream",
     "text": [
      "<class 'pandas.core.frame.DataFrame'>\n",
      "RangeIndex: 2075 entries, 0 to 2074\n",
      "Data columns (total 12 columns):\n",
      "tweet_id    2075 non-null int64\n",
      "jpg_url     2075 non-null object\n",
      "img_num     2075 non-null int64\n",
      "p1          2075 non-null object\n",
      "p1_conf     2075 non-null float64\n",
      "p1_dog      2075 non-null bool\n",
      "p2          2075 non-null object\n",
      "p2_conf     2075 non-null float64\n",
      "p2_dog      2075 non-null bool\n",
      "p3          2075 non-null object\n",
      "p3_conf     2075 non-null float64\n",
      "p3_dog      2075 non-null bool\n",
      "dtypes: bool(3), float64(3), int64(2), object(4)\n",
      "memory usage: 152.1+ KB\n"
     ]
    }
   ],
   "source": [
    "prediction.info()"
   ]
  },
  {
   "cell_type": "code",
   "execution_count": 19,
   "metadata": {},
   "outputs": [
    {
     "data": {
      "text/html": [
       "<div>\n",
       "<style scoped>\n",
       "    .dataframe tbody tr th:only-of-type {\n",
       "        vertical-align: middle;\n",
       "    }\n",
       "\n",
       "    .dataframe tbody tr th {\n",
       "        vertical-align: top;\n",
       "    }\n",
       "\n",
       "    .dataframe thead th {\n",
       "        text-align: right;\n",
       "    }\n",
       "</style>\n",
       "<table border=\"1\" class=\"dataframe\">\n",
       "  <thead>\n",
       "    <tr style=\"text-align: right;\">\n",
       "      <th></th>\n",
       "      <th>tweet_id</th>\n",
       "      <th>retweet_count</th>\n",
       "      <th>favorite_count</th>\n",
       "    </tr>\n",
       "  </thead>\n",
       "  <tbody>\n",
       "    <tr>\n",
       "      <th>216</th>\n",
       "      <td>850145622816686080</td>\n",
       "      <td>4224</td>\n",
       "      <td>17454</td>\n",
       "    </tr>\n",
       "    <tr>\n",
       "      <th>322</th>\n",
       "      <td>833863086058651648</td>\n",
       "      <td>2717</td>\n",
       "      <td>14594</td>\n",
       "    </tr>\n",
       "    <tr>\n",
       "      <th>866</th>\n",
       "      <td>761672994376806400</td>\n",
       "      <td>33230</td>\n",
       "      <td>54793</td>\n",
       "    </tr>\n",
       "    <tr>\n",
       "      <th>2215</th>\n",
       "      <td>668496999348633600</td>\n",
       "      <td>145</td>\n",
       "      <td>435</td>\n",
       "    </tr>\n",
       "    <tr>\n",
       "      <th>2062</th>\n",
       "      <td>671147085991960577</td>\n",
       "      <td>251</td>\n",
       "      <td>708</td>\n",
       "    </tr>\n",
       "  </tbody>\n",
       "</table>\n",
       "</div>"
      ],
      "text/plain": [
       "                tweet_id  retweet_count  favorite_count\n",
       "216   850145622816686080           4224           17454\n",
       "322   833863086058651648           2717           14594\n",
       "866   761672994376806400          33230           54793\n",
       "2215  668496999348633600            145             435\n",
       "2062  671147085991960577            251             708"
      ]
     },
     "execution_count": 19,
     "metadata": {},
     "output_type": "execute_result"
    }
   ],
   "source": [
    "extra.sample(5)"
   ]
  },
  {
   "cell_type": "code",
   "execution_count": 20,
   "metadata": {},
   "outputs": [
    {
     "name": "stdout",
     "output_type": "stream",
     "text": [
      "<class 'pandas.core.frame.DataFrame'>\n",
      "RangeIndex: 2352 entries, 0 to 2351\n",
      "Data columns (total 3 columns):\n",
      "tweet_id          2352 non-null object\n",
      "retweet_count     2352 non-null int64\n",
      "favorite_count    2352 non-null int64\n",
      "dtypes: int64(2), object(1)\n",
      "memory usage: 55.2+ KB\n"
     ]
    }
   ],
   "source": [
    "extra.info()"
   ]
  },
  {
   "cell_type": "markdown",
   "metadata": {},
   "source": [
    "**质量问题**\n",
    "\n",
    "*twitter*\n",
    "- tweet_id列值得类型为int，extra中tweet_id列的值为str（一致性问题）\n",
    "- in_reply_to_status_id、in_reply_to_user_id等列含有缺失值（完整性问题）\n",
    "- timestamp列的值类型为str（一致性问题）\n",
    "- retweeted_status_timestamp列的值类型为str（一致性问题）\n",
    "- name列中包含None、a、an、the等值（有效性问题）\n",
    "- rating_denominator列中存在非10的值，而且出现次数非常少（有效性问题）\n",
    "- rating_numerator列中有一些值仅出现1至2次，应该是错误值（准确性问题和有效性问题）\n",
    "\n",
    "*prediction*\n",
    "- tweet_id列值得类型为int，extra中tweet_id列的值为str（一致性问题）\n",
    "- p1、p2、p3的值大小写不一致（一致性问题）\n",
    "\n",
    "**整洁度问题**\n",
    "\n",
    "*twitter*\n",
    "- doggo、floofer、pupper、puppo是同一种分类变量，但是占据了四个列\n",
    "\n",
    "*extra*\n",
    "- retweet_count、favorite_count是twitter_clean表格的一部分"
   ]
  },
  {
   "cell_type": "markdown",
   "metadata": {},
   "source": [
    "## 数据清理\n",
    "首先建立三个数据集的副本"
   ]
  },
  {
   "cell_type": "code",
   "execution_count": 21,
   "metadata": {},
   "outputs": [],
   "source": [
    "twitter_clean = twitter.copy()\n",
    "prediction_clean = prediction.copy()\n",
    "extra_clean = extra.copy()"
   ]
  },
  {
   "cell_type": "markdown",
   "metadata": {},
   "source": [
    "### 缺失数据\n",
    "in_reply_to_status_id、in_reply_to_user_id等列含有缺失值（完整性问题）\n",
    "\n",
    "**定义**\n",
    "\n",
    "去掉大部分值为空值的列 *in_reply_to_status_id*，*in_reply_to_user_id*，*retweeted_status_id*，*retweeted_status_user_id*，*retweeted_status_timestamp*\n",
    "\n",
    "去掉 *expanded_urls* 列中含有空值的行\n",
    "\n",
    "**代码**"
   ]
  },
  {
   "cell_type": "code",
   "execution_count": 22,
   "metadata": {},
   "outputs": [],
   "source": [
    "twitter_clean = twitter_clean.drop(['in_reply_to_status_id',\n",
    "                                    'in_reply_to_user_id',\n",
    "                                    'retweeted_status_id',\n",
    "                                    'retweeted_status_user_id',\n",
    "                                    'retweeted_status_timestamp'], axis=1)"
   ]
  },
  {
   "cell_type": "code",
   "execution_count": 23,
   "metadata": {},
   "outputs": [],
   "source": [
    "twitter_clean = twitter_clean.dropna()"
   ]
  },
  {
   "cell_type": "markdown",
   "metadata": {},
   "source": [
    "**测试**"
   ]
  },
  {
   "cell_type": "code",
   "execution_count": 24,
   "metadata": {},
   "outputs": [
    {
     "name": "stdout",
     "output_type": "stream",
     "text": [
      "<class 'pandas.core.frame.DataFrame'>\n",
      "Int64Index: 2297 entries, 0 to 2355\n",
      "Data columns (total 12 columns):\n",
      "tweet_id              2297 non-null int64\n",
      "timestamp             2297 non-null object\n",
      "source                2297 non-null object\n",
      "text                  2297 non-null object\n",
      "expanded_urls         2297 non-null object\n",
      "rating_numerator      2297 non-null int64\n",
      "rating_denominator    2297 non-null int64\n",
      "name                  2297 non-null object\n",
      "doggo                 2297 non-null object\n",
      "floofer               2297 non-null object\n",
      "pupper                2297 non-null object\n",
      "puppo                 2297 non-null object\n",
      "dtypes: int64(3), object(9)\n",
      "memory usage: 233.3+ KB\n"
     ]
    }
   ],
   "source": [
    "twitter_clean.info()"
   ]
  },
  {
   "cell_type": "markdown",
   "metadata": {},
   "source": [
    "### 一致性问题\n",
    "*twitter*\n",
    "- tweet_id列值得类型为int，extra_clean中tweet_id列的值为str\n",
    "- timestamp列的值类型为str\n",
    "- retweeted_status_timestamp列的值类型为str\n",
    "\n",
    "*prediction*\n",
    "- tweet_id列值得类型为int，extra_clean中tweet_id列的值为str\n",
    "- p1、p2、p3的值大小写不一致\n",
    "\n",
    "**定义**\n",
    "\n",
    "*twitter*\n",
    "- 将tweet_id列值的类型改为str\n",
    "- 将timestamp列的值类型改为datetime，并分成year，month，day，hour四列，而后删除timestamp列\n",
    "\n",
    "*prediction*\n",
    "- 将tweet_id列值的类型改为str\n",
    "- p1、p2、p3的值全部改为小写字母\n",
    "\n",
    "**编码**"
   ]
  },
  {
   "cell_type": "code",
   "execution_count": 25,
   "metadata": {},
   "outputs": [],
   "source": [
    "twitter_clean.tweet_id = twitter_clean.tweet_id.astype(str)\n",
    "prediction_clean.tweet_id = prediction_clean.tweet_id.astype(str)\n",
    "prediction_clean.p1 = prediction_clean.p1.apply(lambda x: x.lower())\n",
    "prediction_clean.p2 = prediction_clean.p2.apply(lambda x: x.lower())\n",
    "prediction_clean.p3 = prediction_clean.p3.apply(lambda x: x.lower())"
   ]
  },
  {
   "cell_type": "code",
   "execution_count": 26,
   "metadata": {},
   "outputs": [],
   "source": [
    "twitter_clean.timestamp = pd.to_datetime(twitter_clean.timestamp)"
   ]
  },
  {
   "cell_type": "code",
   "execution_count": 27,
   "metadata": {},
   "outputs": [],
   "source": [
    "twitter_clean['year'] = twitter_clean.timestamp.apply(lambda x: str(x.date()).split('-')[0])\n",
    "twitter_clean['month'] = twitter_clean.timestamp.apply(lambda x: str(x.date()).split('-')[1])\n",
    "twitter_clean['day'] = twitter_clean.timestamp.apply(lambda x: str(x.date()).split('-')[2])\n",
    "twitter_clean['hour'] = twitter_clean.timestamp.apply(lambda x: str(x.time()).split(':')[0])\n",
    "twitter_clean.drop(['timestamp'], axis=1, inplace=True)"
   ]
  },
  {
   "cell_type": "markdown",
   "metadata": {},
   "source": [
    "**测试**"
   ]
  },
  {
   "cell_type": "code",
   "execution_count": 28,
   "metadata": {},
   "outputs": [
    {
     "name": "stdout",
     "output_type": "stream",
     "text": [
      "<class 'pandas.core.frame.DataFrame'>\n",
      "Int64Index: 2297 entries, 0 to 2355\n",
      "Data columns (total 15 columns):\n",
      "tweet_id              2297 non-null object\n",
      "source                2297 non-null object\n",
      "text                  2297 non-null object\n",
      "expanded_urls         2297 non-null object\n",
      "rating_numerator      2297 non-null int64\n",
      "rating_denominator    2297 non-null int64\n",
      "name                  2297 non-null object\n",
      "doggo                 2297 non-null object\n",
      "floofer               2297 non-null object\n",
      "pupper                2297 non-null object\n",
      "puppo                 2297 non-null object\n",
      "year                  2297 non-null object\n",
      "month                 2297 non-null object\n",
      "day                   2297 non-null object\n",
      "hour                  2297 non-null object\n",
      "dtypes: int64(2), object(13)\n",
      "memory usage: 287.1+ KB\n"
     ]
    }
   ],
   "source": [
    "twitter_clean.info()"
   ]
  },
  {
   "cell_type": "code",
   "execution_count": 29,
   "metadata": {},
   "outputs": [
    {
     "name": "stdout",
     "output_type": "stream",
     "text": [
      "<class 'pandas.core.frame.DataFrame'>\n",
      "RangeIndex: 2075 entries, 0 to 2074\n",
      "Data columns (total 12 columns):\n",
      "tweet_id    2075 non-null object\n",
      "jpg_url     2075 non-null object\n",
      "img_num     2075 non-null int64\n",
      "p1          2075 non-null object\n",
      "p1_conf     2075 non-null float64\n",
      "p1_dog      2075 non-null bool\n",
      "p2          2075 non-null object\n",
      "p2_conf     2075 non-null float64\n",
      "p2_dog      2075 non-null bool\n",
      "p3          2075 non-null object\n",
      "p3_conf     2075 non-null float64\n",
      "p3_dog      2075 non-null bool\n",
      "dtypes: bool(3), float64(3), int64(1), object(5)\n",
      "memory usage: 152.1+ KB\n"
     ]
    }
   ],
   "source": [
    "prediction_clean.info()"
   ]
  },
  {
   "cell_type": "code",
   "execution_count": 30,
   "metadata": {},
   "outputs": [
    {
     "data": {
      "text/html": [
       "<div>\n",
       "<style scoped>\n",
       "    .dataframe tbody tr th:only-of-type {\n",
       "        vertical-align: middle;\n",
       "    }\n",
       "\n",
       "    .dataframe tbody tr th {\n",
       "        vertical-align: top;\n",
       "    }\n",
       "\n",
       "    .dataframe thead th {\n",
       "        text-align: right;\n",
       "    }\n",
       "</style>\n",
       "<table border=\"1\" class=\"dataframe\">\n",
       "  <thead>\n",
       "    <tr style=\"text-align: right;\">\n",
       "      <th></th>\n",
       "      <th>tweet_id</th>\n",
       "      <th>jpg_url</th>\n",
       "      <th>img_num</th>\n",
       "      <th>p1</th>\n",
       "      <th>p1_conf</th>\n",
       "      <th>p1_dog</th>\n",
       "      <th>p2</th>\n",
       "      <th>p2_conf</th>\n",
       "      <th>p2_dog</th>\n",
       "      <th>p3</th>\n",
       "      <th>p3_conf</th>\n",
       "      <th>p3_dog</th>\n",
       "    </tr>\n",
       "  </thead>\n",
       "  <tbody>\n",
       "    <tr>\n",
       "      <th>0</th>\n",
       "      <td>666020888022790149</td>\n",
       "      <td>https://pbs.twimg.com/media/CT4udn0WwAA0aMy.jpg</td>\n",
       "      <td>1</td>\n",
       "      <td>welsh_springer_spaniel</td>\n",
       "      <td>0.465074</td>\n",
       "      <td>True</td>\n",
       "      <td>collie</td>\n",
       "      <td>0.156665</td>\n",
       "      <td>True</td>\n",
       "      <td>shetland_sheepdog</td>\n",
       "      <td>0.061428</td>\n",
       "      <td>True</td>\n",
       "    </tr>\n",
       "    <tr>\n",
       "      <th>1</th>\n",
       "      <td>666029285002620928</td>\n",
       "      <td>https://pbs.twimg.com/media/CT42GRgUYAA5iDo.jpg</td>\n",
       "      <td>1</td>\n",
       "      <td>redbone</td>\n",
       "      <td>0.506826</td>\n",
       "      <td>True</td>\n",
       "      <td>miniature_pinscher</td>\n",
       "      <td>0.074192</td>\n",
       "      <td>True</td>\n",
       "      <td>rhodesian_ridgeback</td>\n",
       "      <td>0.072010</td>\n",
       "      <td>True</td>\n",
       "    </tr>\n",
       "    <tr>\n",
       "      <th>2</th>\n",
       "      <td>666033412701032449</td>\n",
       "      <td>https://pbs.twimg.com/media/CT4521TWwAEvMyu.jpg</td>\n",
       "      <td>1</td>\n",
       "      <td>german_shepherd</td>\n",
       "      <td>0.596461</td>\n",
       "      <td>True</td>\n",
       "      <td>malinois</td>\n",
       "      <td>0.138584</td>\n",
       "      <td>True</td>\n",
       "      <td>bloodhound</td>\n",
       "      <td>0.116197</td>\n",
       "      <td>True</td>\n",
       "    </tr>\n",
       "    <tr>\n",
       "      <th>3</th>\n",
       "      <td>666044226329800704</td>\n",
       "      <td>https://pbs.twimg.com/media/CT5Dr8HUEAA-lEu.jpg</td>\n",
       "      <td>1</td>\n",
       "      <td>rhodesian_ridgeback</td>\n",
       "      <td>0.408143</td>\n",
       "      <td>True</td>\n",
       "      <td>redbone</td>\n",
       "      <td>0.360687</td>\n",
       "      <td>True</td>\n",
       "      <td>miniature_pinscher</td>\n",
       "      <td>0.222752</td>\n",
       "      <td>True</td>\n",
       "    </tr>\n",
       "    <tr>\n",
       "      <th>4</th>\n",
       "      <td>666049248165822465</td>\n",
       "      <td>https://pbs.twimg.com/media/CT5IQmsXIAAKY4A.jpg</td>\n",
       "      <td>1</td>\n",
       "      <td>miniature_pinscher</td>\n",
       "      <td>0.560311</td>\n",
       "      <td>True</td>\n",
       "      <td>rottweiler</td>\n",
       "      <td>0.243682</td>\n",
       "      <td>True</td>\n",
       "      <td>doberman</td>\n",
       "      <td>0.154629</td>\n",
       "      <td>True</td>\n",
       "    </tr>\n",
       "  </tbody>\n",
       "</table>\n",
       "</div>"
      ],
      "text/plain": [
       "             tweet_id                                          jpg_url  \\\n",
       "0  666020888022790149  https://pbs.twimg.com/media/CT4udn0WwAA0aMy.jpg   \n",
       "1  666029285002620928  https://pbs.twimg.com/media/CT42GRgUYAA5iDo.jpg   \n",
       "2  666033412701032449  https://pbs.twimg.com/media/CT4521TWwAEvMyu.jpg   \n",
       "3  666044226329800704  https://pbs.twimg.com/media/CT5Dr8HUEAA-lEu.jpg   \n",
       "4  666049248165822465  https://pbs.twimg.com/media/CT5IQmsXIAAKY4A.jpg   \n",
       "\n",
       "   img_num                      p1   p1_conf  p1_dog                  p2  \\\n",
       "0        1  welsh_springer_spaniel  0.465074    True              collie   \n",
       "1        1                 redbone  0.506826    True  miniature_pinscher   \n",
       "2        1         german_shepherd  0.596461    True            malinois   \n",
       "3        1     rhodesian_ridgeback  0.408143    True             redbone   \n",
       "4        1      miniature_pinscher  0.560311    True          rottweiler   \n",
       "\n",
       "    p2_conf  p2_dog                   p3   p3_conf  p3_dog  \n",
       "0  0.156665    True    shetland_sheepdog  0.061428    True  \n",
       "1  0.074192    True  rhodesian_ridgeback  0.072010    True  \n",
       "2  0.138584    True           bloodhound  0.116197    True  \n",
       "3  0.360687    True   miniature_pinscher  0.222752    True  \n",
       "4  0.243682    True             doberman  0.154629    True  "
      ]
     },
     "execution_count": 30,
     "metadata": {},
     "output_type": "execute_result"
    }
   ],
   "source": [
    "prediction_clean.head()"
   ]
  },
  {
   "cell_type": "markdown",
   "metadata": {},
   "source": [
    "### 有效性问题\n",
    "*twitter*\n",
    "- name列中包含None、a、an、the等值\n",
    "- rating_denominator列中存在非10的值，而且出现次数非常少\n",
    "- rating_numerator列中有一些值仅出现1至2次，应该是错误值\n",
    "\n",
    "**定义**\n",
    "\n",
    "*twitter*\n",
    "- name列中的None、a、an、the等值替换为Unnamed\n",
    "- rating_denominator列的值均改为10\n",
    "- 调整rating_numerator列中出现次数少于3的值，如果是三位数除以100，两位数除以10，结果不保留小数位\n",
    "\n",
    "**编码**"
   ]
  },
  {
   "cell_type": "code",
   "execution_count": 31,
   "metadata": {},
   "outputs": [],
   "source": [
    "error_list = ['None', 'a', 'an', 'the']\n",
    "for word in error_list:\n",
    "    twitter_clean.name.replace(word, 'Unnamed', inplace=True)"
   ]
  },
  {
   "cell_type": "code",
   "execution_count": 32,
   "metadata": {},
   "outputs": [],
   "source": [
    "twitter_clean.rating_denominator = twitter_clean.rating_denominator.apply(lambda x: 10)"
   ]
  },
  {
   "cell_type": "code",
   "execution_count": 33,
   "metadata": {},
   "outputs": [],
   "source": [
    "series = twitter_clean.rating_numerator.value_counts()\n",
    "index = series.index.tolist()\n",
    "dict_numer = {}\n",
    "for i,value in enumerate(series):\n",
    "    key = str(index[i])\n",
    "    dict_numer[key] = value"
   ]
  },
  {
   "cell_type": "code",
   "execution_count": 34,
   "metadata": {},
   "outputs": [],
   "source": [
    "def numerator(df):\n",
    "    if dict_numer[str(df['rating_numerator'])] <= 2:\n",
    "        if df['rating_numerator'] > 400:\n",
    "            return int(df['rating_numerator']/100)\n",
    "        else:\n",
    "            return int(df['rating_numerator']/10)\n",
    "    else:\n",
    "        return df['rating_numerator']\n",
    "twitter_clean.rating_numerator = twitter_clean.apply(numerator, axis=1)"
   ]
  },
  {
   "cell_type": "markdown",
   "metadata": {},
   "source": [
    "**测试**"
   ]
  },
  {
   "cell_type": "code",
   "execution_count": 35,
   "metadata": {},
   "outputs": [
    {
     "data": {
      "text/plain": [
       "Unnamed      756\n",
       "Charlie       12\n",
       "Oliver        11\n",
       "Lucy          11\n",
       "Cooper        11\n",
       "Lola          10\n",
       "Penny         10\n",
       "Tucker        10\n",
       "Winston        9\n",
       "Bo             9\n",
       "Sadie          8\n",
       "Bailey         7\n",
       "Buddy          7\n",
       "Daisy          7\n",
       "Toby           7\n",
       "Stanley        6\n",
       "Leo            6\n",
       "Rusty          6\n",
       "Oscar          6\n",
       "Milo           6\n",
       "Jax            6\n",
       "Bella          6\n",
       "Jack           6\n",
       "Koda           6\n",
       "Dave           6\n",
       "Scout          6\n",
       "Larry          5\n",
       "Alfie          5\n",
       "George         5\n",
       "Finn           5\n",
       "            ... \n",
       "Aldrick        1\n",
       "Crumpet        1\n",
       "Jaycob         1\n",
       "Ambrose        1\n",
       "Sparky         1\n",
       "Eugene         1\n",
       "Tanner         1\n",
       "Maya           1\n",
       "Cermet         1\n",
       "Ricky          1\n",
       "Rumble         1\n",
       "Henry          1\n",
       "Kallie         1\n",
       "Durg           1\n",
       "Torque         1\n",
       "Charleson      1\n",
       "Nico           1\n",
       "Striker        1\n",
       "Laela          1\n",
       "Yukon          1\n",
       "Emma           1\n",
       "Gerbald        1\n",
       "Lillie         1\n",
       "Lorelei        1\n",
       "Georgie        1\n",
       "Hermione       1\n",
       "Rose           1\n",
       "Ruffles        1\n",
       "Leonard        1\n",
       "Anna           1\n",
       "Name: name, Length: 954, dtype: int64"
      ]
     },
     "execution_count": 35,
     "metadata": {},
     "output_type": "execute_result"
    }
   ],
   "source": [
    "twitter_clean.name.value_counts()"
   ]
  },
  {
   "cell_type": "code",
   "execution_count": 36,
   "metadata": {},
   "outputs": [
    {
     "data": {
      "text/plain": [
       "10    2297\n",
       "Name: rating_denominator, dtype: int64"
      ]
     },
     "execution_count": 36,
     "metadata": {},
     "output_type": "execute_result"
    }
   ],
   "source": [
    "twitter_clean.rating_denominator.value_counts()"
   ]
  },
  {
   "cell_type": "code",
   "execution_count": 37,
   "metadata": {},
   "outputs": [
    {
     "data": {
      "text/plain": [
       "12    548\n",
       "11    455\n",
       "10    455\n",
       "13    339\n",
       "9     157\n",
       "8     105\n",
       "7      55\n",
       "14     52\n",
       "5      36\n",
       "6      33\n",
       "4      19\n",
       "3      19\n",
       "2      12\n",
       "1       7\n",
       "0       2\n",
       "17      1\n",
       "20      1\n",
       "16      1\n",
       "Name: rating_numerator, dtype: int64"
      ]
     },
     "execution_count": 37,
     "metadata": {},
     "output_type": "execute_result"
    }
   ],
   "source": [
    "twitter_clean.rating_numerator.value_counts()"
   ]
  },
  {
   "cell_type": "markdown",
   "metadata": {},
   "source": [
    "### 整洁度问题\n",
    "\n",
    "*twitter*\n",
    "- doggo、floofer、pupper、puppo是同一种分类变量，但是占据了四个列\n",
    "\n",
    "*extra*\n",
    "- retweet_count、favorite_count是twitter_clean表格的一部分\n",
    "\n",
    "**定义**\n",
    "- 将doggo、floofer、pupper、puppo作为分类变量放入一列，列名称为level，没有定义狗“地位”的赋值Nolevel\n",
    "- 将 extra 合并到 twitter 中\n",
    "\n",
    "**编码**"
   ]
  },
  {
   "cell_type": "code",
   "execution_count": 38,
   "metadata": {},
   "outputs": [
    {
     "name": "stdout",
     "output_type": "stream",
     "text": [
      "<class 'pandas.core.frame.DataFrame'>\n",
      "Int64Index: 2297 entries, 0 to 2355\n",
      "Data columns (total 15 columns):\n",
      "tweet_id              2297 non-null object\n",
      "source                2297 non-null object\n",
      "text                  2297 non-null object\n",
      "expanded_urls         2297 non-null object\n",
      "rating_numerator      2297 non-null int64\n",
      "rating_denominator    2297 non-null int64\n",
      "name                  2297 non-null object\n",
      "doggo                 2297 non-null object\n",
      "floofer               2297 non-null object\n",
      "pupper                2297 non-null object\n",
      "puppo                 2297 non-null object\n",
      "year                  2297 non-null object\n",
      "month                 2297 non-null object\n",
      "day                   2297 non-null object\n",
      "hour                  2297 non-null object\n",
      "dtypes: int64(2), object(13)\n",
      "memory usage: 287.1+ KB\n"
     ]
    }
   ],
   "source": [
    "twitter_clean.info()"
   ]
  },
  {
   "cell_type": "code",
   "execution_count": 39,
   "metadata": {},
   "outputs": [],
   "source": [
    "twitter_clean['Nolevel'] = twitter_clean.doggo + twitter_clean.floofer + twitter_clean.pupper + twitter_clean.puppo\n",
    "twitter_clean.Nolevel = twitter_clean.Nolevel.apply(lambda x: 'Nolevel' if x=='NoneNoneNoneNone' else 'None')\n",
    "twitter_clean = pd.melt(twitter_clean, id_vars=['tweet_id','source','text','expanded_urls','rating_numerator',\n",
    "                                                'rating_denominator','name','year','month','day','hour'], var_name='level')\n",
    "twitter_clean = twitter_clean[twitter_clean.value != 'None']\n",
    "twitter_clean = twitter_clean[~(twitter_clean.tweet_id.duplicated())]\n",
    "twitter_clean.drop(['value'], axis=1, inplace=True)"
   ]
  },
  {
   "cell_type": "code",
   "execution_count": 40,
   "metadata": {},
   "outputs": [],
   "source": [
    "twitter_clean = pd.merge(twitter_clean, extra_clean, on=['tweet_id'], how='left')\n",
    "twitter_clean.dropna(inplace=True)"
   ]
  },
  {
   "cell_type": "markdown",
   "metadata": {},
   "source": [
    "**测试**"
   ]
  },
  {
   "cell_type": "code",
   "execution_count": 41,
   "metadata": {},
   "outputs": [
    {
     "name": "stdout",
     "output_type": "stream",
     "text": [
      "<class 'pandas.core.frame.DataFrame'>\n",
      "Int64Index: 2293 entries, 0 to 2296\n",
      "Data columns (total 14 columns):\n",
      "tweet_id              2293 non-null object\n",
      "source                2293 non-null object\n",
      "text                  2293 non-null object\n",
      "expanded_urls         2293 non-null object\n",
      "rating_numerator      2293 non-null int64\n",
      "rating_denominator    2293 non-null int64\n",
      "name                  2293 non-null object\n",
      "year                  2293 non-null object\n",
      "month                 2293 non-null object\n",
      "day                   2293 non-null object\n",
      "hour                  2293 non-null object\n",
      "level                 2293 non-null object\n",
      "retweet_count         2293 non-null float64\n",
      "favorite_count        2293 non-null float64\n",
      "dtypes: float64(2), int64(2), object(10)\n",
      "memory usage: 268.7+ KB\n"
     ]
    }
   ],
   "source": [
    "twitter_clean.info()"
   ]
  },
  {
   "cell_type": "code",
   "execution_count": 42,
   "metadata": {},
   "outputs": [
    {
     "data": {
      "text/html": [
       "<div>\n",
       "<style scoped>\n",
       "    .dataframe tbody tr th:only-of-type {\n",
       "        vertical-align: middle;\n",
       "    }\n",
       "\n",
       "    .dataframe tbody tr th {\n",
       "        vertical-align: top;\n",
       "    }\n",
       "\n",
       "    .dataframe thead th {\n",
       "        text-align: right;\n",
       "    }\n",
       "</style>\n",
       "<table border=\"1\" class=\"dataframe\">\n",
       "  <thead>\n",
       "    <tr style=\"text-align: right;\">\n",
       "      <th></th>\n",
       "      <th>tweet_id</th>\n",
       "      <th>source</th>\n",
       "      <th>text</th>\n",
       "      <th>expanded_urls</th>\n",
       "      <th>rating_numerator</th>\n",
       "      <th>rating_denominator</th>\n",
       "      <th>name</th>\n",
       "      <th>year</th>\n",
       "      <th>month</th>\n",
       "      <th>day</th>\n",
       "      <th>hour</th>\n",
       "      <th>level</th>\n",
       "      <th>retweet_count</th>\n",
       "      <th>favorite_count</th>\n",
       "    </tr>\n",
       "  </thead>\n",
       "  <tbody>\n",
       "    <tr>\n",
       "      <th>953</th>\n",
       "      <td>781524693396357120</td>\n",
       "      <td>&lt;a href=\"http://twitter.com/download/iphone\" r...</td>\n",
       "      <td>Idk why this keeps happening. We only rate dog...</td>\n",
       "      <td>https://twitter.com/dog_rates/status/781524693...</td>\n",
       "      <td>12</td>\n",
       "      <td>10</td>\n",
       "      <td>Unnamed</td>\n",
       "      <td>2016</td>\n",
       "      <td>09</td>\n",
       "      <td>29</td>\n",
       "      <td>16</td>\n",
       "      <td>Nolevel</td>\n",
       "      <td>6383.0</td>\n",
       "      <td>23074.0</td>\n",
       "    </tr>\n",
       "    <tr>\n",
       "      <th>2153</th>\n",
       "      <td>668614819948453888</td>\n",
       "      <td>&lt;a href=\"http://twitter.com/download/iphone\" r...</td>\n",
       "      <td>Here is a horned dog. Much grace. Can jump ove...</td>\n",
       "      <td>https://twitter.com/dog_rates/status/668614819...</td>\n",
       "      <td>7</td>\n",
       "      <td>10</td>\n",
       "      <td>Unnamed</td>\n",
       "      <td>2015</td>\n",
       "      <td>11</td>\n",
       "      <td>23</td>\n",
       "      <td>02</td>\n",
       "      <td>Nolevel</td>\n",
       "      <td>340.0</td>\n",
       "      <td>649.0</td>\n",
       "    </tr>\n",
       "    <tr>\n",
       "      <th>1746</th>\n",
       "      <td>679158373988876288</td>\n",
       "      <td>&lt;a href=\"http://twitter.com/download/iphone\" r...</td>\n",
       "      <td>This is Rubio. He has too much skin. 11/10 htt...</td>\n",
       "      <td>https://twitter.com/dog_rates/status/679158373...</td>\n",
       "      <td>11</td>\n",
       "      <td>10</td>\n",
       "      <td>Rubio</td>\n",
       "      <td>2015</td>\n",
       "      <td>12</td>\n",
       "      <td>22</td>\n",
       "      <td>04</td>\n",
       "      <td>Nolevel</td>\n",
       "      <td>9140.0</td>\n",
       "      <td>23469.0</td>\n",
       "    </tr>\n",
       "    <tr>\n",
       "      <th>1671</th>\n",
       "      <td>683857920510050305</td>\n",
       "      <td>&lt;a href=\"http://twitter.com/download/iphone\" r...</td>\n",
       "      <td>Meet Sadie. She fell asleep on the beach and h...</td>\n",
       "      <td>https://twitter.com/dog_rates/status/683857920...</td>\n",
       "      <td>10</td>\n",
       "      <td>10</td>\n",
       "      <td>Sadie</td>\n",
       "      <td>2016</td>\n",
       "      <td>01</td>\n",
       "      <td>04</td>\n",
       "      <td>03</td>\n",
       "      <td>Nolevel</td>\n",
       "      <td>1260.0</td>\n",
       "      <td>4146.0</td>\n",
       "    </tr>\n",
       "    <tr>\n",
       "      <th>933</th>\n",
       "      <td>785264754247995392</td>\n",
       "      <td>&lt;a href=\"http://twitter.com/download/iphone\" r...</td>\n",
       "      <td>This is Doc. He requested to be carried around...</td>\n",
       "      <td>https://twitter.com/dog_rates/status/785264754...</td>\n",
       "      <td>12</td>\n",
       "      <td>10</td>\n",
       "      <td>Doc</td>\n",
       "      <td>2016</td>\n",
       "      <td>10</td>\n",
       "      <td>09</td>\n",
       "      <td>23</td>\n",
       "      <td>Nolevel</td>\n",
       "      <td>1897.0</td>\n",
       "      <td>8095.0</td>\n",
       "    </tr>\n",
       "    <tr>\n",
       "      <th>2272</th>\n",
       "      <td>666353288456101888</td>\n",
       "      <td>&lt;a href=\"http://twitter.com/download/iphone\" r...</td>\n",
       "      <td>Here we have a mixed Asiago from the Galápagos...</td>\n",
       "      <td>https://twitter.com/dog_rates/status/666353288...</td>\n",
       "      <td>8</td>\n",
       "      <td>10</td>\n",
       "      <td>Unnamed</td>\n",
       "      <td>2015</td>\n",
       "      <td>11</td>\n",
       "      <td>16</td>\n",
       "      <td>20</td>\n",
       "      <td>Nolevel</td>\n",
       "      <td>76.0</td>\n",
       "      <td>228.0</td>\n",
       "    </tr>\n",
       "    <tr>\n",
       "      <th>948</th>\n",
       "      <td>782722598790725632</td>\n",
       "      <td>&lt;a href=\"http://twitter.com/download/iphone\" r...</td>\n",
       "      <td>This is Penny. She fought a bee and the bee wo...</td>\n",
       "      <td>https://twitter.com/dog_rates/status/782722598...</td>\n",
       "      <td>10</td>\n",
       "      <td>10</td>\n",
       "      <td>Penny</td>\n",
       "      <td>2016</td>\n",
       "      <td>10</td>\n",
       "      <td>02</td>\n",
       "      <td>23</td>\n",
       "      <td>Nolevel</td>\n",
       "      <td>6201.0</td>\n",
       "      <td>19173.0</td>\n",
       "    </tr>\n",
       "    <tr>\n",
       "      <th>1830</th>\n",
       "      <td>675781562965868544</td>\n",
       "      <td>&lt;a href=\"http://twitter.com/download/iphone\" r...</td>\n",
       "      <td>Say hello to Buddah. He was Waldo for Hallowee...</td>\n",
       "      <td>https://twitter.com/dog_rates/status/675781562...</td>\n",
       "      <td>11</td>\n",
       "      <td>10</td>\n",
       "      <td>Buddah</td>\n",
       "      <td>2015</td>\n",
       "      <td>12</td>\n",
       "      <td>12</td>\n",
       "      <td>20</td>\n",
       "      <td>Nolevel</td>\n",
       "      <td>531.0</td>\n",
       "      <td>1741.0</td>\n",
       "    </tr>\n",
       "    <tr>\n",
       "      <th>679</th>\n",
       "      <td>827653905312006145</td>\n",
       "      <td>&lt;a href=\"http://twitter.com/download/iphone\" r...</td>\n",
       "      <td>This is Boots. She doesn't know what to do wit...</td>\n",
       "      <td>https://twitter.com/dog_rates/status/827653905...</td>\n",
       "      <td>12</td>\n",
       "      <td>10</td>\n",
       "      <td>Boots</td>\n",
       "      <td>2017</td>\n",
       "      <td>02</td>\n",
       "      <td>03</td>\n",
       "      <td>23</td>\n",
       "      <td>Nolevel</td>\n",
       "      <td>3414.0</td>\n",
       "      <td>16917.0</td>\n",
       "    </tr>\n",
       "    <tr>\n",
       "      <th>7</th>\n",
       "      <td>855851453814013952</td>\n",
       "      <td>&lt;a href=\"http://twitter.com/download/iphone\" r...</td>\n",
       "      <td>Here's a puppo participating in the #ScienceMa...</td>\n",
       "      <td>https://twitter.com/dog_rates/status/855851453...</td>\n",
       "      <td>13</td>\n",
       "      <td>10</td>\n",
       "      <td>Unnamed</td>\n",
       "      <td>2017</td>\n",
       "      <td>04</td>\n",
       "      <td>22</td>\n",
       "      <td>18</td>\n",
       "      <td>doggo</td>\n",
       "      <td>19118.0</td>\n",
       "      <td>47679.0</td>\n",
       "    </tr>\n",
       "    <tr>\n",
       "      <th>1527</th>\n",
       "      <td>695816827381944320</td>\n",
       "      <td>&lt;a href=\"http://twitter.com/download/iphone\" r...</td>\n",
       "      <td>Here's a dog enjoying a sunset. 11/10 would tr...</td>\n",
       "      <td>https://twitter.com/dog_rates/status/695816827...</td>\n",
       "      <td>11</td>\n",
       "      <td>10</td>\n",
       "      <td>Unnamed</td>\n",
       "      <td>2016</td>\n",
       "      <td>02</td>\n",
       "      <td>06</td>\n",
       "      <td>03</td>\n",
       "      <td>Nolevel</td>\n",
       "      <td>1315.0</td>\n",
       "      <td>3275.0</td>\n",
       "    </tr>\n",
       "    <tr>\n",
       "      <th>1287</th>\n",
       "      <td>722613351520608256</td>\n",
       "      <td>&lt;a href=\"http://twitter.com/download/iphone\" r...</td>\n",
       "      <td>Meet Schnitzel. He's a Tropicana Floofboop. Ge...</td>\n",
       "      <td>https://twitter.com/dog_rates/status/722613351...</td>\n",
       "      <td>12</td>\n",
       "      <td>10</td>\n",
       "      <td>Schnitzel</td>\n",
       "      <td>2016</td>\n",
       "      <td>04</td>\n",
       "      <td>20</td>\n",
       "      <td>02</td>\n",
       "      <td>Nolevel</td>\n",
       "      <td>1824.0</td>\n",
       "      <td>5369.0</td>\n",
       "    </tr>\n",
       "    <tr>\n",
       "      <th>1644</th>\n",
       "      <td>685906723014619143</td>\n",
       "      <td>&lt;a href=\"http://twitter.com/download/iphone\" r...</td>\n",
       "      <td>This is Olive. He's stuck in a sleeve. 9/10 da...</td>\n",
       "      <td>https://twitter.com/dog_rates/status/685906723...</td>\n",
       "      <td>9</td>\n",
       "      <td>10</td>\n",
       "      <td>Olive</td>\n",
       "      <td>2016</td>\n",
       "      <td>01</td>\n",
       "      <td>09</td>\n",
       "      <td>19</td>\n",
       "      <td>Nolevel</td>\n",
       "      <td>3281.0</td>\n",
       "      <td>8242.0</td>\n",
       "    </tr>\n",
       "    <tr>\n",
       "      <th>681</th>\n",
       "      <td>827324948884643840</td>\n",
       "      <td>&lt;a href=\"http://twitter.com/download/iphone\" r...</td>\n",
       "      <td>This is Ralphie. He's being treated for an ove...</td>\n",
       "      <td>https://twitter.com/dog_rates/status/827324948...</td>\n",
       "      <td>12</td>\n",
       "      <td>10</td>\n",
       "      <td>Ralphie</td>\n",
       "      <td>2017</td>\n",
       "      <td>02</td>\n",
       "      <td>03</td>\n",
       "      <td>01</td>\n",
       "      <td>Nolevel</td>\n",
       "      <td>3490.0</td>\n",
       "      <td>17444.0</td>\n",
       "    </tr>\n",
       "    <tr>\n",
       "      <th>644</th>\n",
       "      <td>833479644947025920</td>\n",
       "      <td>&lt;a href=\"http://twitter.com/download/iphone\" r...</td>\n",
       "      <td>This is Poppy. She just arrived. 13/10 would s...</td>\n",
       "      <td>https://twitter.com/dog_rates/status/833479644...</td>\n",
       "      <td>13</td>\n",
       "      <td>10</td>\n",
       "      <td>Poppy</td>\n",
       "      <td>2017</td>\n",
       "      <td>02</td>\n",
       "      <td>20</td>\n",
       "      <td>00</td>\n",
       "      <td>Nolevel</td>\n",
       "      <td>2345.0</td>\n",
       "      <td>16193.0</td>\n",
       "    </tr>\n",
       "    <tr>\n",
       "      <th>888</th>\n",
       "      <td>791784077045166082</td>\n",
       "      <td>&lt;a href=\"http://twitter.com/download/iphone\" r...</td>\n",
       "      <td>RT @dog_rates: I'm not sure what this dog is d...</td>\n",
       "      <td>https://vine.co/v/iqMjlxULzbn,https://vine.co/...</td>\n",
       "      <td>12</td>\n",
       "      <td>10</td>\n",
       "      <td>Unnamed</td>\n",
       "      <td>2016</td>\n",
       "      <td>10</td>\n",
       "      <td>27</td>\n",
       "      <td>23</td>\n",
       "      <td>Nolevel</td>\n",
       "      <td>11208.0</td>\n",
       "      <td>0.0</td>\n",
       "    </tr>\n",
       "    <tr>\n",
       "      <th>1153</th>\n",
       "      <td>748705597323898880</td>\n",
       "      <td>&lt;a href=\"http://twitter.com\" rel=\"nofollow\"&gt;Tw...</td>\n",
       "      <td>#BarkWeek is getting rather heckin terrifying ...</td>\n",
       "      <td>https://twitter.com/dog_rates/status/748705597...</td>\n",
       "      <td>13</td>\n",
       "      <td>10</td>\n",
       "      <td>Unnamed</td>\n",
       "      <td>2016</td>\n",
       "      <td>07</td>\n",
       "      <td>01</td>\n",
       "      <td>02</td>\n",
       "      <td>Nolevel</td>\n",
       "      <td>1059.0</td>\n",
       "      <td>3028.0</td>\n",
       "    </tr>\n",
       "    <tr>\n",
       "      <th>383</th>\n",
       "      <td>890006608113172480</td>\n",
       "      <td>&lt;a href=\"http://twitter.com/download/iphone\" r...</td>\n",
       "      <td>This is Koda. He is a South Australian decksha...</td>\n",
       "      <td>https://twitter.com/dog_rates/status/890006608...</td>\n",
       "      <td>13</td>\n",
       "      <td>10</td>\n",
       "      <td>Koda</td>\n",
       "      <td>2017</td>\n",
       "      <td>07</td>\n",
       "      <td>26</td>\n",
       "      <td>00</td>\n",
       "      <td>Nolevel</td>\n",
       "      <td>7584.0</td>\n",
       "      <td>31127.0</td>\n",
       "    </tr>\n",
       "    <tr>\n",
       "      <th>2266</th>\n",
       "      <td>666418789513326592</td>\n",
       "      <td>&lt;a href=\"http://twitter.com/download/iphone\" r...</td>\n",
       "      <td>This is Walter. He is an Alaskan Terrapin. Lov...</td>\n",
       "      <td>https://twitter.com/dog_rates/status/666418789...</td>\n",
       "      <td>10</td>\n",
       "      <td>10</td>\n",
       "      <td>Walter</td>\n",
       "      <td>2015</td>\n",
       "      <td>11</td>\n",
       "      <td>17</td>\n",
       "      <td>00</td>\n",
       "      <td>Nolevel</td>\n",
       "      <td>48.0</td>\n",
       "      <td>129.0</td>\n",
       "    </tr>\n",
       "    <tr>\n",
       "      <th>1162</th>\n",
       "      <td>747885874273214464</td>\n",
       "      <td>&lt;a href=\"http://twitter.com/download/iphone\" r...</td>\n",
       "      <td>This is a mighty rare blue-tailed hammer sherk...</td>\n",
       "      <td>https://twitter.com/dog_rates/status/747885874...</td>\n",
       "      <td>8</td>\n",
       "      <td>10</td>\n",
       "      <td>Unnamed</td>\n",
       "      <td>2016</td>\n",
       "      <td>06</td>\n",
       "      <td>28</td>\n",
       "      <td>20</td>\n",
       "      <td>Nolevel</td>\n",
       "      <td>1112.0</td>\n",
       "      <td>3226.0</td>\n",
       "    </tr>\n",
       "  </tbody>\n",
       "</table>\n",
       "</div>"
      ],
      "text/plain": [
       "                tweet_id                                             source  \\\n",
       "953   781524693396357120  <a href=\"http://twitter.com/download/iphone\" r...   \n",
       "2153  668614819948453888  <a href=\"http://twitter.com/download/iphone\" r...   \n",
       "1746  679158373988876288  <a href=\"http://twitter.com/download/iphone\" r...   \n",
       "1671  683857920510050305  <a href=\"http://twitter.com/download/iphone\" r...   \n",
       "933   785264754247995392  <a href=\"http://twitter.com/download/iphone\" r...   \n",
       "2272  666353288456101888  <a href=\"http://twitter.com/download/iphone\" r...   \n",
       "948   782722598790725632  <a href=\"http://twitter.com/download/iphone\" r...   \n",
       "1830  675781562965868544  <a href=\"http://twitter.com/download/iphone\" r...   \n",
       "679   827653905312006145  <a href=\"http://twitter.com/download/iphone\" r...   \n",
       "7     855851453814013952  <a href=\"http://twitter.com/download/iphone\" r...   \n",
       "1527  695816827381944320  <a href=\"http://twitter.com/download/iphone\" r...   \n",
       "1287  722613351520608256  <a href=\"http://twitter.com/download/iphone\" r...   \n",
       "1644  685906723014619143  <a href=\"http://twitter.com/download/iphone\" r...   \n",
       "681   827324948884643840  <a href=\"http://twitter.com/download/iphone\" r...   \n",
       "644   833479644947025920  <a href=\"http://twitter.com/download/iphone\" r...   \n",
       "888   791784077045166082  <a href=\"http://twitter.com/download/iphone\" r...   \n",
       "1153  748705597323898880  <a href=\"http://twitter.com\" rel=\"nofollow\">Tw...   \n",
       "383   890006608113172480  <a href=\"http://twitter.com/download/iphone\" r...   \n",
       "2266  666418789513326592  <a href=\"http://twitter.com/download/iphone\" r...   \n",
       "1162  747885874273214464  <a href=\"http://twitter.com/download/iphone\" r...   \n",
       "\n",
       "                                                   text  \\\n",
       "953   Idk why this keeps happening. We only rate dog...   \n",
       "2153  Here is a horned dog. Much grace. Can jump ove...   \n",
       "1746  This is Rubio. He has too much skin. 11/10 htt...   \n",
       "1671  Meet Sadie. She fell asleep on the beach and h...   \n",
       "933   This is Doc. He requested to be carried around...   \n",
       "2272  Here we have a mixed Asiago from the Galápagos...   \n",
       "948   This is Penny. She fought a bee and the bee wo...   \n",
       "1830  Say hello to Buddah. He was Waldo for Hallowee...   \n",
       "679   This is Boots. She doesn't know what to do wit...   \n",
       "7     Here's a puppo participating in the #ScienceMa...   \n",
       "1527  Here's a dog enjoying a sunset. 11/10 would tr...   \n",
       "1287  Meet Schnitzel. He's a Tropicana Floofboop. Ge...   \n",
       "1644  This is Olive. He's stuck in a sleeve. 9/10 da...   \n",
       "681   This is Ralphie. He's being treated for an ove...   \n",
       "644   This is Poppy. She just arrived. 13/10 would s...   \n",
       "888   RT @dog_rates: I'm not sure what this dog is d...   \n",
       "1153  #BarkWeek is getting rather heckin terrifying ...   \n",
       "383   This is Koda. He is a South Australian decksha...   \n",
       "2266  This is Walter. He is an Alaskan Terrapin. Lov...   \n",
       "1162  This is a mighty rare blue-tailed hammer sherk...   \n",
       "\n",
       "                                          expanded_urls  rating_numerator  \\\n",
       "953   https://twitter.com/dog_rates/status/781524693...                12   \n",
       "2153  https://twitter.com/dog_rates/status/668614819...                 7   \n",
       "1746  https://twitter.com/dog_rates/status/679158373...                11   \n",
       "1671  https://twitter.com/dog_rates/status/683857920...                10   \n",
       "933   https://twitter.com/dog_rates/status/785264754...                12   \n",
       "2272  https://twitter.com/dog_rates/status/666353288...                 8   \n",
       "948   https://twitter.com/dog_rates/status/782722598...                10   \n",
       "1830  https://twitter.com/dog_rates/status/675781562...                11   \n",
       "679   https://twitter.com/dog_rates/status/827653905...                12   \n",
       "7     https://twitter.com/dog_rates/status/855851453...                13   \n",
       "1527  https://twitter.com/dog_rates/status/695816827...                11   \n",
       "1287  https://twitter.com/dog_rates/status/722613351...                12   \n",
       "1644  https://twitter.com/dog_rates/status/685906723...                 9   \n",
       "681   https://twitter.com/dog_rates/status/827324948...                12   \n",
       "644   https://twitter.com/dog_rates/status/833479644...                13   \n",
       "888   https://vine.co/v/iqMjlxULzbn,https://vine.co/...                12   \n",
       "1153  https://twitter.com/dog_rates/status/748705597...                13   \n",
       "383   https://twitter.com/dog_rates/status/890006608...                13   \n",
       "2266  https://twitter.com/dog_rates/status/666418789...                10   \n",
       "1162  https://twitter.com/dog_rates/status/747885874...                 8   \n",
       "\n",
       "      rating_denominator       name  year month day hour    level  \\\n",
       "953                   10    Unnamed  2016    09  29   16  Nolevel   \n",
       "2153                  10    Unnamed  2015    11  23   02  Nolevel   \n",
       "1746                  10      Rubio  2015    12  22   04  Nolevel   \n",
       "1671                  10      Sadie  2016    01  04   03  Nolevel   \n",
       "933                   10        Doc  2016    10  09   23  Nolevel   \n",
       "2272                  10    Unnamed  2015    11  16   20  Nolevel   \n",
       "948                   10      Penny  2016    10  02   23  Nolevel   \n",
       "1830                  10     Buddah  2015    12  12   20  Nolevel   \n",
       "679                   10      Boots  2017    02  03   23  Nolevel   \n",
       "7                     10    Unnamed  2017    04  22   18    doggo   \n",
       "1527                  10    Unnamed  2016    02  06   03  Nolevel   \n",
       "1287                  10  Schnitzel  2016    04  20   02  Nolevel   \n",
       "1644                  10      Olive  2016    01  09   19  Nolevel   \n",
       "681                   10    Ralphie  2017    02  03   01  Nolevel   \n",
       "644                   10      Poppy  2017    02  20   00  Nolevel   \n",
       "888                   10    Unnamed  2016    10  27   23  Nolevel   \n",
       "1153                  10    Unnamed  2016    07  01   02  Nolevel   \n",
       "383                   10       Koda  2017    07  26   00  Nolevel   \n",
       "2266                  10     Walter  2015    11  17   00  Nolevel   \n",
       "1162                  10    Unnamed  2016    06  28   20  Nolevel   \n",
       "\n",
       "      retweet_count  favorite_count  \n",
       "953          6383.0         23074.0  \n",
       "2153          340.0           649.0  \n",
       "1746         9140.0         23469.0  \n",
       "1671         1260.0          4146.0  \n",
       "933          1897.0          8095.0  \n",
       "2272           76.0           228.0  \n",
       "948          6201.0         19173.0  \n",
       "1830          531.0          1741.0  \n",
       "679          3414.0         16917.0  \n",
       "7           19118.0         47679.0  \n",
       "1527         1315.0          3275.0  \n",
       "1287         1824.0          5369.0  \n",
       "1644         3281.0          8242.0  \n",
       "681          3490.0         17444.0  \n",
       "644          2345.0         16193.0  \n",
       "888         11208.0             0.0  \n",
       "1153         1059.0          3028.0  \n",
       "383          7584.0         31127.0  \n",
       "2266           48.0           129.0  \n",
       "1162         1112.0          3226.0  "
      ]
     },
     "execution_count": 42,
     "metadata": {},
     "output_type": "execute_result"
    }
   ],
   "source": [
    "twitter_clean.sample(20)"
   ]
  },
  {
   "cell_type": "markdown",
   "metadata": {},
   "source": [
    "## 保存清理后的数据"
   ]
  },
  {
   "cell_type": "code",
   "execution_count": 43,
   "metadata": {},
   "outputs": [],
   "source": [
    "twitter_clean = twitter_clean.reset_index().drop(['index'], axis=1)\n",
    "twitter_clean.to_csv('twitter_clean.csv', index=False)\n",
    "prediction_clean.to_csv('prediction_clean.csv', index=False)"
   ]
  },
  {
   "cell_type": "markdown",
   "metadata": {},
   "source": [
    "## 数据分析和可视化"
   ]
  },
  {
   "cell_type": "code",
   "execution_count": 44,
   "metadata": {},
   "outputs": [],
   "source": [
    "twitter_clean = pd.read_csv('twitter_clean.csv')\n",
    "prediction_clean = pd.read_csv('prediction_clean.csv')"
   ]
  },
  {
   "cell_type": "code",
   "execution_count": 45,
   "metadata": {},
   "outputs": [
    {
     "name": "stdout",
     "output_type": "stream",
     "text": [
      "<class 'pandas.core.frame.DataFrame'>\n",
      "RangeIndex: 2293 entries, 0 to 2292\n",
      "Data columns (total 14 columns):\n",
      "tweet_id              2293 non-null int64\n",
      "source                2293 non-null object\n",
      "text                  2293 non-null object\n",
      "expanded_urls         2293 non-null object\n",
      "rating_numerator      2293 non-null int64\n",
      "rating_denominator    2293 non-null int64\n",
      "name                  2293 non-null object\n",
      "year                  2293 non-null int64\n",
      "month                 2293 non-null int64\n",
      "day                   2293 non-null int64\n",
      "hour                  2293 non-null int64\n",
      "level                 2293 non-null object\n",
      "retweet_count         2293 non-null float64\n",
      "favorite_count        2293 non-null float64\n",
      "dtypes: float64(2), int64(7), object(5)\n",
      "memory usage: 250.9+ KB\n"
     ]
    }
   ],
   "source": [
    "twitter_clean.info()"
   ]
  },
  {
   "cell_type": "code",
   "execution_count": 46,
   "metadata": {},
   "outputs": [
    {
     "data": {
      "text/html": [
       "<div>\n",
       "<style scoped>\n",
       "    .dataframe tbody tr th:only-of-type {\n",
       "        vertical-align: middle;\n",
       "    }\n",
       "\n",
       "    .dataframe tbody tr th {\n",
       "        vertical-align: top;\n",
       "    }\n",
       "\n",
       "    .dataframe thead th {\n",
       "        text-align: right;\n",
       "    }\n",
       "</style>\n",
       "<table border=\"1\" class=\"dataframe\">\n",
       "  <thead>\n",
       "    <tr style=\"text-align: right;\">\n",
       "      <th></th>\n",
       "      <th>tweet_id</th>\n",
       "      <th>source</th>\n",
       "      <th>text</th>\n",
       "      <th>expanded_urls</th>\n",
       "      <th>rating_numerator</th>\n",
       "      <th>rating_denominator</th>\n",
       "      <th>name</th>\n",
       "      <th>year</th>\n",
       "      <th>month</th>\n",
       "      <th>day</th>\n",
       "      <th>hour</th>\n",
       "      <th>level</th>\n",
       "      <th>retweet_count</th>\n",
       "      <th>favorite_count</th>\n",
       "    </tr>\n",
       "  </thead>\n",
       "  <tbody>\n",
       "    <tr>\n",
       "      <th>0</th>\n",
       "      <td>890240255349198849</td>\n",
       "      <td>&lt;a href=\"http://twitter.com/download/iphone\" r...</td>\n",
       "      <td>This is Cassie. She is a college pup. Studying...</td>\n",
       "      <td>https://twitter.com/dog_rates/status/890240255...</td>\n",
       "      <td>14</td>\n",
       "      <td>10</td>\n",
       "      <td>Cassie</td>\n",
       "      <td>2017</td>\n",
       "      <td>7</td>\n",
       "      <td>26</td>\n",
       "      <td>15</td>\n",
       "      <td>doggo</td>\n",
       "      <td>7684.0</td>\n",
       "      <td>32467.0</td>\n",
       "    </tr>\n",
       "    <tr>\n",
       "      <th>1</th>\n",
       "      <td>884162670584377345</td>\n",
       "      <td>&lt;a href=\"http://twitter.com/download/iphone\" r...</td>\n",
       "      <td>Meet Yogi. He doesn't have any important dog m...</td>\n",
       "      <td>https://twitter.com/dog_rates/status/884162670...</td>\n",
       "      <td>12</td>\n",
       "      <td>10</td>\n",
       "      <td>Yogi</td>\n",
       "      <td>2017</td>\n",
       "      <td>7</td>\n",
       "      <td>9</td>\n",
       "      <td>21</td>\n",
       "      <td>doggo</td>\n",
       "      <td>3099.0</td>\n",
       "      <td>20719.0</td>\n",
       "    </tr>\n",
       "    <tr>\n",
       "      <th>2</th>\n",
       "      <td>872967104147763200</td>\n",
       "      <td>&lt;a href=\"http://twitter.com/download/iphone\" r...</td>\n",
       "      <td>Here's a very large dog. He has a date later. ...</td>\n",
       "      <td>https://twitter.com/dog_rates/status/872967104...</td>\n",
       "      <td>12</td>\n",
       "      <td>10</td>\n",
       "      <td>Unnamed</td>\n",
       "      <td>2017</td>\n",
       "      <td>6</td>\n",
       "      <td>9</td>\n",
       "      <td>0</td>\n",
       "      <td>doggo</td>\n",
       "      <td>5632.0</td>\n",
       "      <td>27918.0</td>\n",
       "    </tr>\n",
       "    <tr>\n",
       "      <th>3</th>\n",
       "      <td>871515927908634625</td>\n",
       "      <td>&lt;a href=\"http://twitter.com/download/iphone\" r...</td>\n",
       "      <td>This is Napolean. He's a Raggedy East Nicaragu...</td>\n",
       "      <td>https://twitter.com/dog_rates/status/871515927...</td>\n",
       "      <td>12</td>\n",
       "      <td>10</td>\n",
       "      <td>Napolean</td>\n",
       "      <td>2017</td>\n",
       "      <td>6</td>\n",
       "      <td>4</td>\n",
       "      <td>23</td>\n",
       "      <td>doggo</td>\n",
       "      <td>3608.0</td>\n",
       "      <td>20687.0</td>\n",
       "    </tr>\n",
       "    <tr>\n",
       "      <th>4</th>\n",
       "      <td>871102520638267392</td>\n",
       "      <td>&lt;a href=\"http://twitter.com/download/iphone\" r...</td>\n",
       "      <td>Never doubt a doggo 14/10 https://t.co/AbBLh2FZCH</td>\n",
       "      <td>https://twitter.com/animalcog/status/871075758...</td>\n",
       "      <td>14</td>\n",
       "      <td>10</td>\n",
       "      <td>Unnamed</td>\n",
       "      <td>2017</td>\n",
       "      <td>6</td>\n",
       "      <td>3</td>\n",
       "      <td>20</td>\n",
       "      <td>doggo</td>\n",
       "      <td>5729.0</td>\n",
       "      <td>21403.0</td>\n",
       "    </tr>\n",
       "  </tbody>\n",
       "</table>\n",
       "</div>"
      ],
      "text/plain": [
       "             tweet_id                                             source  \\\n",
       "0  890240255349198849  <a href=\"http://twitter.com/download/iphone\" r...   \n",
       "1  884162670584377345  <a href=\"http://twitter.com/download/iphone\" r...   \n",
       "2  872967104147763200  <a href=\"http://twitter.com/download/iphone\" r...   \n",
       "3  871515927908634625  <a href=\"http://twitter.com/download/iphone\" r...   \n",
       "4  871102520638267392  <a href=\"http://twitter.com/download/iphone\" r...   \n",
       "\n",
       "                                                text  \\\n",
       "0  This is Cassie. She is a college pup. Studying...   \n",
       "1  Meet Yogi. He doesn't have any important dog m...   \n",
       "2  Here's a very large dog. He has a date later. ...   \n",
       "3  This is Napolean. He's a Raggedy East Nicaragu...   \n",
       "4  Never doubt a doggo 14/10 https://t.co/AbBLh2FZCH   \n",
       "\n",
       "                                       expanded_urls  rating_numerator  \\\n",
       "0  https://twitter.com/dog_rates/status/890240255...                14   \n",
       "1  https://twitter.com/dog_rates/status/884162670...                12   \n",
       "2  https://twitter.com/dog_rates/status/872967104...                12   \n",
       "3  https://twitter.com/dog_rates/status/871515927...                12   \n",
       "4  https://twitter.com/animalcog/status/871075758...                14   \n",
       "\n",
       "   rating_denominator      name  year  month  day  hour  level  retweet_count  \\\n",
       "0                  10    Cassie  2017      7   26    15  doggo         7684.0   \n",
       "1                  10      Yogi  2017      7    9    21  doggo         3099.0   \n",
       "2                  10   Unnamed  2017      6    9     0  doggo         5632.0   \n",
       "3                  10  Napolean  2017      6    4    23  doggo         3608.0   \n",
       "4                  10   Unnamed  2017      6    3    20  doggo         5729.0   \n",
       "\n",
       "   favorite_count  \n",
       "0         32467.0  \n",
       "1         20719.0  \n",
       "2         27918.0  \n",
       "3         20687.0  \n",
       "4         21403.0  "
      ]
     },
     "execution_count": 46,
     "metadata": {},
     "output_type": "execute_result"
    }
   ],
   "source": [
    "twitter_clean.head()"
   ]
  },
  {
   "cell_type": "code",
   "execution_count": 47,
   "metadata": {},
   "outputs": [
    {
     "name": "stdout",
     "output_type": "stream",
     "text": [
      "<class 'pandas.core.frame.DataFrame'>\n",
      "RangeIndex: 2075 entries, 0 to 2074\n",
      "Data columns (total 12 columns):\n",
      "tweet_id    2075 non-null int64\n",
      "jpg_url     2075 non-null object\n",
      "img_num     2075 non-null int64\n",
      "p1          2075 non-null object\n",
      "p1_conf     2075 non-null float64\n",
      "p1_dog      2075 non-null bool\n",
      "p2          2075 non-null object\n",
      "p2_conf     2075 non-null float64\n",
      "p2_dog      2075 non-null bool\n",
      "p3          2075 non-null object\n",
      "p3_conf     2075 non-null float64\n",
      "p3_dog      2075 non-null bool\n",
      "dtypes: bool(3), float64(3), int64(2), object(4)\n",
      "memory usage: 152.1+ KB\n"
     ]
    }
   ],
   "source": [
    "prediction_clean.info()"
   ]
  },
  {
   "cell_type": "code",
   "execution_count": 48,
   "metadata": {},
   "outputs": [
    {
     "data": {
      "text/html": [
       "<div>\n",
       "<style scoped>\n",
       "    .dataframe tbody tr th:only-of-type {\n",
       "        vertical-align: middle;\n",
       "    }\n",
       "\n",
       "    .dataframe tbody tr th {\n",
       "        vertical-align: top;\n",
       "    }\n",
       "\n",
       "    .dataframe thead th {\n",
       "        text-align: right;\n",
       "    }\n",
       "</style>\n",
       "<table border=\"1\" class=\"dataframe\">\n",
       "  <thead>\n",
       "    <tr style=\"text-align: right;\">\n",
       "      <th></th>\n",
       "      <th>tweet_id</th>\n",
       "      <th>jpg_url</th>\n",
       "      <th>img_num</th>\n",
       "      <th>p1</th>\n",
       "      <th>p1_conf</th>\n",
       "      <th>p1_dog</th>\n",
       "      <th>p2</th>\n",
       "      <th>p2_conf</th>\n",
       "      <th>p2_dog</th>\n",
       "      <th>p3</th>\n",
       "      <th>p3_conf</th>\n",
       "      <th>p3_dog</th>\n",
       "    </tr>\n",
       "  </thead>\n",
       "  <tbody>\n",
       "    <tr>\n",
       "      <th>0</th>\n",
       "      <td>666020888022790149</td>\n",
       "      <td>https://pbs.twimg.com/media/CT4udn0WwAA0aMy.jpg</td>\n",
       "      <td>1</td>\n",
       "      <td>welsh_springer_spaniel</td>\n",
       "      <td>0.465074</td>\n",
       "      <td>True</td>\n",
       "      <td>collie</td>\n",
       "      <td>0.156665</td>\n",
       "      <td>True</td>\n",
       "      <td>shetland_sheepdog</td>\n",
       "      <td>0.061428</td>\n",
       "      <td>True</td>\n",
       "    </tr>\n",
       "    <tr>\n",
       "      <th>1</th>\n",
       "      <td>666029285002620928</td>\n",
       "      <td>https://pbs.twimg.com/media/CT42GRgUYAA5iDo.jpg</td>\n",
       "      <td>1</td>\n",
       "      <td>redbone</td>\n",
       "      <td>0.506826</td>\n",
       "      <td>True</td>\n",
       "      <td>miniature_pinscher</td>\n",
       "      <td>0.074192</td>\n",
       "      <td>True</td>\n",
       "      <td>rhodesian_ridgeback</td>\n",
       "      <td>0.072010</td>\n",
       "      <td>True</td>\n",
       "    </tr>\n",
       "    <tr>\n",
       "      <th>2</th>\n",
       "      <td>666033412701032449</td>\n",
       "      <td>https://pbs.twimg.com/media/CT4521TWwAEvMyu.jpg</td>\n",
       "      <td>1</td>\n",
       "      <td>german_shepherd</td>\n",
       "      <td>0.596461</td>\n",
       "      <td>True</td>\n",
       "      <td>malinois</td>\n",
       "      <td>0.138584</td>\n",
       "      <td>True</td>\n",
       "      <td>bloodhound</td>\n",
       "      <td>0.116197</td>\n",
       "      <td>True</td>\n",
       "    </tr>\n",
       "    <tr>\n",
       "      <th>3</th>\n",
       "      <td>666044226329800704</td>\n",
       "      <td>https://pbs.twimg.com/media/CT5Dr8HUEAA-lEu.jpg</td>\n",
       "      <td>1</td>\n",
       "      <td>rhodesian_ridgeback</td>\n",
       "      <td>0.408143</td>\n",
       "      <td>True</td>\n",
       "      <td>redbone</td>\n",
       "      <td>0.360687</td>\n",
       "      <td>True</td>\n",
       "      <td>miniature_pinscher</td>\n",
       "      <td>0.222752</td>\n",
       "      <td>True</td>\n",
       "    </tr>\n",
       "    <tr>\n",
       "      <th>4</th>\n",
       "      <td>666049248165822465</td>\n",
       "      <td>https://pbs.twimg.com/media/CT5IQmsXIAAKY4A.jpg</td>\n",
       "      <td>1</td>\n",
       "      <td>miniature_pinscher</td>\n",
       "      <td>0.560311</td>\n",
       "      <td>True</td>\n",
       "      <td>rottweiler</td>\n",
       "      <td>0.243682</td>\n",
       "      <td>True</td>\n",
       "      <td>doberman</td>\n",
       "      <td>0.154629</td>\n",
       "      <td>True</td>\n",
       "    </tr>\n",
       "  </tbody>\n",
       "</table>\n",
       "</div>"
      ],
      "text/plain": [
       "             tweet_id                                          jpg_url  \\\n",
       "0  666020888022790149  https://pbs.twimg.com/media/CT4udn0WwAA0aMy.jpg   \n",
       "1  666029285002620928  https://pbs.twimg.com/media/CT42GRgUYAA5iDo.jpg   \n",
       "2  666033412701032449  https://pbs.twimg.com/media/CT4521TWwAEvMyu.jpg   \n",
       "3  666044226329800704  https://pbs.twimg.com/media/CT5Dr8HUEAA-lEu.jpg   \n",
       "4  666049248165822465  https://pbs.twimg.com/media/CT5IQmsXIAAKY4A.jpg   \n",
       "\n",
       "   img_num                      p1   p1_conf  p1_dog                  p2  \\\n",
       "0        1  welsh_springer_spaniel  0.465074    True              collie   \n",
       "1        1                 redbone  0.506826    True  miniature_pinscher   \n",
       "2        1         german_shepherd  0.596461    True            malinois   \n",
       "3        1     rhodesian_ridgeback  0.408143    True             redbone   \n",
       "4        1      miniature_pinscher  0.560311    True          rottweiler   \n",
       "\n",
       "    p2_conf  p2_dog                   p3   p3_conf  p3_dog  \n",
       "0  0.156665    True    shetland_sheepdog  0.061428    True  \n",
       "1  0.074192    True  rhodesian_ridgeback  0.072010    True  \n",
       "2  0.138584    True           bloodhound  0.116197    True  \n",
       "3  0.360687    True   miniature_pinscher  0.222752    True  \n",
       "4  0.243682    True             doberman  0.154629    True  "
      ]
     },
     "execution_count": 48,
     "metadata": {},
     "output_type": "execute_result"
    }
   ],
   "source": [
    "prediction_clean.head()"
   ]
  },
  {
   "cell_type": "markdown",
   "metadata": {},
   "source": [
    "**分析四个问题**\n",
    "- 哪个品种的狗评分最高，转发数和点赞数更多(取前五名)\n",
    "- 哪个品种的狗出现的频率最高(取前五名)\n",
    "- 有名字的狗和没有被命名的狗，哪一类的转发数和点赞数更多\n",
    "- 哪一个时间段twitter的活跃度更高（取前五名）\n",
    "\n",
    "### 问题一：哪个品种的狗评分最高，转发数和点赞数更多(取前五名)"
   ]
  },
  {
   "cell_type": "code",
   "execution_count": 49,
   "metadata": {},
   "outputs": [],
   "source": [
    "breed_score = pd.merge(prediction_clean[['tweet_id','p1','p1_conf','p1_dog']], \n",
    "                       twitter_clean[['tweet_id', 'rating_numerator', 'name', 'retweet_count','favorite_count']],\n",
    "                       on=['tweet_id'], how='left')"
   ]
  },
  {
   "cell_type": "code",
   "execution_count": 50,
   "metadata": {},
   "outputs": [
    {
     "name": "stdout",
     "output_type": "stream",
     "text": [
      "<class 'pandas.core.frame.DataFrame'>\n",
      "Int64Index: 2075 entries, 0 to 2074\n",
      "Data columns (total 8 columns):\n",
      "tweet_id            2075 non-null int64\n",
      "p1                  2075 non-null object\n",
      "p1_conf             2075 non-null float64\n",
      "p1_dog              2075 non-null bool\n",
      "rating_numerator    2073 non-null float64\n",
      "name                2073 non-null object\n",
      "retweet_count       2073 non-null float64\n",
      "favorite_count      2073 non-null float64\n",
      "dtypes: bool(1), float64(4), int64(1), object(2)\n",
      "memory usage: 131.7+ KB\n"
     ]
    }
   ],
   "source": [
    "breed_score.info()"
   ]
  },
  {
   "cell_type": "code",
   "execution_count": 51,
   "metadata": {},
   "outputs": [
    {
     "data": {
      "text/html": [
       "<div>\n",
       "<style scoped>\n",
       "    .dataframe tbody tr th:only-of-type {\n",
       "        vertical-align: middle;\n",
       "    }\n",
       "\n",
       "    .dataframe tbody tr th {\n",
       "        vertical-align: top;\n",
       "    }\n",
       "\n",
       "    .dataframe thead th {\n",
       "        text-align: right;\n",
       "    }\n",
       "</style>\n",
       "<table border=\"1\" class=\"dataframe\">\n",
       "  <thead>\n",
       "    <tr style=\"text-align: right;\">\n",
       "      <th></th>\n",
       "      <th>tweet_id</th>\n",
       "      <th>p1</th>\n",
       "      <th>p1_conf</th>\n",
       "      <th>p1_dog</th>\n",
       "      <th>rating_numerator</th>\n",
       "      <th>name</th>\n",
       "      <th>retweet_count</th>\n",
       "      <th>favorite_count</th>\n",
       "    </tr>\n",
       "  </thead>\n",
       "  <tbody>\n",
       "    <tr>\n",
       "      <th>0</th>\n",
       "      <td>666020888022790149</td>\n",
       "      <td>welsh_springer_spaniel</td>\n",
       "      <td>0.465074</td>\n",
       "      <td>True</td>\n",
       "      <td>8.0</td>\n",
       "      <td>Unnamed</td>\n",
       "      <td>530.0</td>\n",
       "      <td>2528.0</td>\n",
       "    </tr>\n",
       "    <tr>\n",
       "      <th>1</th>\n",
       "      <td>666029285002620928</td>\n",
       "      <td>redbone</td>\n",
       "      <td>0.506826</td>\n",
       "      <td>True</td>\n",
       "      <td>7.0</td>\n",
       "      <td>Unnamed</td>\n",
       "      <td>48.0</td>\n",
       "      <td>132.0</td>\n",
       "    </tr>\n",
       "    <tr>\n",
       "      <th>2</th>\n",
       "      <td>666033412701032449</td>\n",
       "      <td>german_shepherd</td>\n",
       "      <td>0.596461</td>\n",
       "      <td>True</td>\n",
       "      <td>9.0</td>\n",
       "      <td>Unnamed</td>\n",
       "      <td>47.0</td>\n",
       "      <td>128.0</td>\n",
       "    </tr>\n",
       "    <tr>\n",
       "      <th>3</th>\n",
       "      <td>666044226329800704</td>\n",
       "      <td>rhodesian_ridgeback</td>\n",
       "      <td>0.408143</td>\n",
       "      <td>True</td>\n",
       "      <td>6.0</td>\n",
       "      <td>Unnamed</td>\n",
       "      <td>147.0</td>\n",
       "      <td>309.0</td>\n",
       "    </tr>\n",
       "    <tr>\n",
       "      <th>4</th>\n",
       "      <td>666049248165822465</td>\n",
       "      <td>miniature_pinscher</td>\n",
       "      <td>0.560311</td>\n",
       "      <td>True</td>\n",
       "      <td>5.0</td>\n",
       "      <td>Unnamed</td>\n",
       "      <td>41.0</td>\n",
       "      <td>111.0</td>\n",
       "    </tr>\n",
       "  </tbody>\n",
       "</table>\n",
       "</div>"
      ],
      "text/plain": [
       "             tweet_id                      p1   p1_conf  p1_dog  \\\n",
       "0  666020888022790149  welsh_springer_spaniel  0.465074    True   \n",
       "1  666029285002620928                 redbone  0.506826    True   \n",
       "2  666033412701032449         german_shepherd  0.596461    True   \n",
       "3  666044226329800704     rhodesian_ridgeback  0.408143    True   \n",
       "4  666049248165822465      miniature_pinscher  0.560311    True   \n",
       "\n",
       "   rating_numerator     name  retweet_count  favorite_count  \n",
       "0               8.0  Unnamed          530.0          2528.0  \n",
       "1               7.0  Unnamed           48.0           132.0  \n",
       "2               9.0  Unnamed           47.0           128.0  \n",
       "3               6.0  Unnamed          147.0           309.0  \n",
       "4               5.0  Unnamed           41.0           111.0  "
      ]
     },
     "execution_count": 51,
     "metadata": {},
     "output_type": "execute_result"
    }
   ],
   "source": [
    "breed_score.head()"
   ]
  },
  {
   "cell_type": "code",
   "execution_count": 52,
   "metadata": {},
   "outputs": [
    {
     "name": "stdout",
     "output_type": "stream",
     "text": [
      "<class 'pandas.core.frame.DataFrame'>\n",
      "Int64Index: 2075 entries, 0 to 2074\n",
      "Data columns (total 8 columns):\n",
      "tweet_id            2075 non-null int64\n",
      "p1                  2075 non-null object\n",
      "p1_conf             2075 non-null float64\n",
      "p1_dog              2075 non-null bool\n",
      "rating_numerator    2073 non-null float64\n",
      "name                2073 non-null object\n",
      "retweet_count       2073 non-null float64\n",
      "favorite_count      2073 non-null float64\n",
      "dtypes: bool(1), float64(4), int64(1), object(2)\n",
      "memory usage: 131.7+ KB\n"
     ]
    }
   ],
   "source": [
    "breed_score.info()"
   ]
  },
  {
   "cell_type": "code",
   "execution_count": 53,
   "metadata": {},
   "outputs": [],
   "source": [
    "breed_score = breed_score[breed_score.p1_dog==True]"
   ]
  },
  {
   "cell_type": "code",
   "execution_count": 54,
   "metadata": {},
   "outputs": [
    {
     "name": "stdout",
     "output_type": "stream",
     "text": [
      "<class 'pandas.core.frame.DataFrame'>\n",
      "Int64Index: 1532 entries, 0 to 2073\n",
      "Data columns (total 8 columns):\n",
      "tweet_id            1532 non-null int64\n",
      "p1                  1532 non-null object\n",
      "p1_conf             1532 non-null float64\n",
      "p1_dog              1532 non-null bool\n",
      "rating_numerator    1531 non-null float64\n",
      "name                1531 non-null object\n",
      "retweet_count       1531 non-null float64\n",
      "favorite_count      1531 non-null float64\n",
      "dtypes: bool(1), float64(4), int64(1), object(2)\n",
      "memory usage: 97.2+ KB\n"
     ]
    }
   ],
   "source": [
    "breed_score.info()"
   ]
  },
  {
   "cell_type": "code",
   "execution_count": 55,
   "metadata": {},
   "outputs": [],
   "source": [
    "rating_score = breed_score.groupby(['p1'])['rating_numerator'].mean()"
   ]
  },
  {
   "cell_type": "code",
   "execution_count": 56,
   "metadata": {},
   "outputs": [
    {
     "data": {
      "text/plain": [
       "p1\n",
       "saluki                12.500000\n",
       "tibetan_mastiff       12.400000\n",
       "briard                12.333333\n",
       "border_terrier        12.142857\n",
       "giant_schnauzer       12.000000\n",
       "silky_terrier         12.000000\n",
       "standard_schnauzer    12.000000\n",
       "Name: rating_numerator, dtype: float64"
      ]
     },
     "execution_count": 56,
     "metadata": {},
     "output_type": "execute_result"
    }
   ],
   "source": [
    "rating_top5 = rating_score.sort_values(ascending=False).head(7)\n",
    "rating_top5"
   ]
  },
  {
   "cell_type": "code",
   "execution_count": 57,
   "metadata": {},
   "outputs": [
    {
     "data": {
      "image/png": "[encoded data removed]",
      "text/plain": [
       "<Figure size 864x576 with 1 Axes>"
      ]
     },
     "metadata": {},
     "output_type": "display_data"
    }
   ],
   "source": [
    "plt.figure(figsize=(12, 8))\n",
    "plt.title(\"Rating Top5\")\n",
    "plt.xlabel('Dog Breed')\n",
    "plt.ylabel('Rating Score')\n",
    "X = rating_top5.index.values\n",
    "Y = rating_top5.values\n",
    "plt.bar(X, Y, width=0.3)\n",
    "for i,(x,y) in enumerate(zip(X, Y)):\n",
    "    plt.text(x, y+0.05, \"%.2f\" %y)"
   ]
  },
  {
   "cell_type": "markdown",
   "metadata": {},
   "source": [
    "评分最高的前5名分别是：\n",
    "- 第一名 saluki，12.5分\n",
    "- 第二名 tibetan_mastiff，12.4分\n",
    "- 第三名 briard，12.33分               \n",
    "- 第四名 border_terrier，12.14分        \n",
    "- 并列第五名 giant_schnauzer、silky_terrier、standard_schnauzer，12分"
   ]
  },
  {
   "cell_type": "code",
   "execution_count": 58,
   "metadata": {},
   "outputs": [
    {
     "data": {
      "text/plain": [
       "p1\n",
       "golden_retriever      583777.0\n",
       "labrador_retriever    424954.0\n",
       "chihuahua             302618.0\n",
       "pembroke              278975.0\n",
       "samoyed               211249.0\n",
       "Name: retweet_count, dtype: float64"
      ]
     },
     "execution_count": 58,
     "metadata": {},
     "output_type": "execute_result"
    }
   ],
   "source": [
    "retweet_score = breed_score.groupby(['p1'])['retweet_count'].sum()\n",
    "retweet_top5 = retweet_score.sort_values(ascending=False).head()\n",
    "retweet_top5"
   ]
  },
  {
   "cell_type": "code",
   "execution_count": 59,
   "metadata": {},
   "outputs": [
    {
     "data": {
      "image/png": "[encoded data removed]",
      "text/plain": [
       "<Figure size 864x576 with 1 Axes>"
      ]
     },
     "metadata": {},
     "output_type": "display_data"
    }
   ],
   "source": [
    "plt.figure(figsize=(12, 8))\n",
    "plt.title(\"Retweet Top5\")\n",
    "plt.xlabel('Dog Breed')\n",
    "plt.ylabel('Retweet Score')\n",
    "X = retweet_top5.index.values\n",
    "Y = retweet_top5.values\n",
    "plt.bar(X, Y, width=0.3)\n",
    "for i,(x,y) in enumerate(zip(X, Y)):\n",
    "    plt.text(x, y+0.5, \"%.2f\" %y)"
   ]
  },
  {
   "cell_type": "markdown",
   "metadata": {},
   "source": [
    "转发数最高的前5名分别是：\n",
    "- 第一名golden_retriever，583777.0\n",
    "- 第二名labrador_retriever，424954.0\n",
    "- 第三名chihuahua，302618.0\n",
    "- 第四名pembroke，278975.0\n",
    "- 第五名samoyed，211249.0"
   ]
  },
  {
   "cell_type": "code",
   "execution_count": 60,
   "metadata": {},
   "outputs": [
    {
     "data": {
      "text/plain": [
       "p1\n",
       "golden_retriever      1707334.0\n",
       "labrador_retriever    1119555.0\n",
       "pembroke               991762.0\n",
       "chihuahua              673987.0\n",
       "samoyed                541345.0\n",
       "Name: favorite_count, dtype: float64"
      ]
     },
     "execution_count": 60,
     "metadata": {},
     "output_type": "execute_result"
    }
   ],
   "source": [
    "favorite_score = breed_score.groupby(['p1'])['favorite_count'].sum()\n",
    "favorite_top5 = favorite_score.sort_values(ascending=False).head()\n",
    "favorite_top5"
   ]
  },
  {
   "cell_type": "code",
   "execution_count": 61,
   "metadata": {},
   "outputs": [
    {
     "data": {
      "image/png": "[encoded data removed]",
      "text/plain": [
       "<Figure size 864x576 with 1 Axes>"
      ]
     },
     "metadata": {},
     "output_type": "display_data"
    }
   ],
   "source": [
    "plt.figure(figsize=(12, 8))\n",
    "plt.title(\"Favorite Top5\")\n",
    "plt.xlabel('Dog Breed')\n",
    "plt.ylabel('Favorite Score')\n",
    "X = favorite_top5.index.values\n",
    "Y = favorite_top5.values\n",
    "plt.bar(X, Y, width=0.3)\n",
    "for i,(x,y) in enumerate(zip(X, Y)):\n",
    "    plt.text(x, y+0.5, \"%.2f\" %y)"
   ]
  },
  {
   "cell_type": "markdown",
   "metadata": {},
   "source": [
    "点赞数最高的前5名分别是：\n",
    "- 第一名golden_retriever，1707334.0\n",
    "- 第二名labrador_retriever，1119555.0\n",
    "- 第三名pembroke，991762.0\n",
    "- 第四名chihuahua，673987.0\n",
    "- 第五名samoyed，541345.0"
   ]
  },
  {
   "cell_type": "markdown",
   "metadata": {},
   "source": [
    "### 问题二：哪个品种的狗出现的频率最高"
   ]
  },
  {
   "cell_type": "code",
   "execution_count": 62,
   "metadata": {},
   "outputs": [
    {
     "data": {
      "text/html": [
       "<div>\n",
       "<style scoped>\n",
       "    .dataframe tbody tr th:only-of-type {\n",
       "        vertical-align: middle;\n",
       "    }\n",
       "\n",
       "    .dataframe tbody tr th {\n",
       "        vertical-align: top;\n",
       "    }\n",
       "\n",
       "    .dataframe thead th {\n",
       "        text-align: right;\n",
       "    }\n",
       "</style>\n",
       "<table border=\"1\" class=\"dataframe\">\n",
       "  <thead>\n",
       "    <tr style=\"text-align: right;\">\n",
       "      <th></th>\n",
       "      <th>tweet_id</th>\n",
       "      <th>p1</th>\n",
       "      <th>p1_conf</th>\n",
       "      <th>p1_dog</th>\n",
       "      <th>rating_numerator</th>\n",
       "      <th>name</th>\n",
       "      <th>retweet_count</th>\n",
       "      <th>favorite_count</th>\n",
       "    </tr>\n",
       "  </thead>\n",
       "  <tbody>\n",
       "    <tr>\n",
       "      <th>0</th>\n",
       "      <td>666020888022790149</td>\n",
       "      <td>welsh_springer_spaniel</td>\n",
       "      <td>0.465074</td>\n",
       "      <td>True</td>\n",
       "      <td>8.0</td>\n",
       "      <td>Unnamed</td>\n",
       "      <td>530.0</td>\n",
       "      <td>2528.0</td>\n",
       "    </tr>\n",
       "    <tr>\n",
       "      <th>1</th>\n",
       "      <td>666029285002620928</td>\n",
       "      <td>redbone</td>\n",
       "      <td>0.506826</td>\n",
       "      <td>True</td>\n",
       "      <td>7.0</td>\n",
       "      <td>Unnamed</td>\n",
       "      <td>48.0</td>\n",
       "      <td>132.0</td>\n",
       "    </tr>\n",
       "    <tr>\n",
       "      <th>2</th>\n",
       "      <td>666033412701032449</td>\n",
       "      <td>german_shepherd</td>\n",
       "      <td>0.596461</td>\n",
       "      <td>True</td>\n",
       "      <td>9.0</td>\n",
       "      <td>Unnamed</td>\n",
       "      <td>47.0</td>\n",
       "      <td>128.0</td>\n",
       "    </tr>\n",
       "    <tr>\n",
       "      <th>3</th>\n",
       "      <td>666044226329800704</td>\n",
       "      <td>rhodesian_ridgeback</td>\n",
       "      <td>0.408143</td>\n",
       "      <td>True</td>\n",
       "      <td>6.0</td>\n",
       "      <td>Unnamed</td>\n",
       "      <td>147.0</td>\n",
       "      <td>309.0</td>\n",
       "    </tr>\n",
       "    <tr>\n",
       "      <th>4</th>\n",
       "      <td>666049248165822465</td>\n",
       "      <td>miniature_pinscher</td>\n",
       "      <td>0.560311</td>\n",
       "      <td>True</td>\n",
       "      <td>5.0</td>\n",
       "      <td>Unnamed</td>\n",
       "      <td>41.0</td>\n",
       "      <td>111.0</td>\n",
       "    </tr>\n",
       "  </tbody>\n",
       "</table>\n",
       "</div>"
      ],
      "text/plain": [
       "             tweet_id                      p1   p1_conf  p1_dog  \\\n",
       "0  666020888022790149  welsh_springer_spaniel  0.465074    True   \n",
       "1  666029285002620928                 redbone  0.506826    True   \n",
       "2  666033412701032449         german_shepherd  0.596461    True   \n",
       "3  666044226329800704     rhodesian_ridgeback  0.408143    True   \n",
       "4  666049248165822465      miniature_pinscher  0.560311    True   \n",
       "\n",
       "   rating_numerator     name  retweet_count  favorite_count  \n",
       "0               8.0  Unnamed          530.0          2528.0  \n",
       "1               7.0  Unnamed           48.0           132.0  \n",
       "2               9.0  Unnamed           47.0           128.0  \n",
       "3               6.0  Unnamed          147.0           309.0  \n",
       "4               5.0  Unnamed           41.0           111.0  "
      ]
     },
     "execution_count": 62,
     "metadata": {},
     "output_type": "execute_result"
    }
   ],
   "source": [
    "breed_score.head()"
   ]
  },
  {
   "cell_type": "code",
   "execution_count": 63,
   "metadata": {},
   "outputs": [
    {
     "data": {
      "text/plain": [
       "p1\n",
       "golden_retriever      150\n",
       "labrador_retriever    100\n",
       "pembroke               89\n",
       "chihuahua              83\n",
       "pug                    57\n",
       "Name: tweet_id, dtype: int64"
      ]
     },
     "execution_count": 63,
     "metadata": {},
     "output_type": "execute_result"
    }
   ],
   "source": [
    "fashion_top5 = breed_score.groupby(['p1'])['tweet_id'].count().sort_values(ascending=False).head(5)\n",
    "fashion_top5"
   ]
  },
  {
   "cell_type": "code",
   "execution_count": 64,
   "metadata": {},
   "outputs": [
    {
     "data": {
      "image/png": "[encoded data removed]",
      "text/plain": [
       "<Figure size 864x576 with 1 Axes>"
      ]
     },
     "metadata": {},
     "output_type": "display_data"
    }
   ],
   "source": [
    "plt.figure(figsize=(12, 8))\n",
    "plt.title(\"Fashion Top5\")\n",
    "plt.xlabel('Dog Breed')\n",
    "plt.ylabel('Fashion Score')\n",
    "X = fashion_top5.index.values\n",
    "Y = fashion_top5.values\n",
    "plt.bar(X, Y, width=0.3)\n",
    "for i,(x,y) in enumerate(zip(X, Y)):\n",
    "    plt.text(x, y+0.5, \"%.2f\" %y)"
   ]
  },
  {
   "cell_type": "markdown",
   "metadata": {},
   "source": [
    "出现频率最高的前5名分别是：\n",
    "- golden_retriever，150\n",
    "- labrador_retriever，100\n",
    "- pembroke，89\n",
    "- chihuahua，83\n",
    "- pug，57"
   ]
  },
  {
   "cell_type": "markdown",
   "metadata": {},
   "source": [
    "### 问题三：有名字的狗和没有被命名的狗，哪一类的转发数和点赞数更多"
   ]
  },
  {
   "cell_type": "code",
   "execution_count": 65,
   "metadata": {},
   "outputs": [],
   "source": [
    "breed_score['name'] = breed_score['name'].apply(lambda x: 'Named' if x!='Unnamed' else x)"
   ]
  },
  {
   "cell_type": "code",
   "execution_count": 66,
   "metadata": {},
   "outputs": [
    {
     "data": {
      "text/html": [
       "<div>\n",
       "<style scoped>\n",
       "    .dataframe tbody tr th:only-of-type {\n",
       "        vertical-align: middle;\n",
       "    }\n",
       "\n",
       "    .dataframe tbody tr th {\n",
       "        vertical-align: top;\n",
       "    }\n",
       "\n",
       "    .dataframe thead th {\n",
       "        text-align: right;\n",
       "    }\n",
       "</style>\n",
       "<table border=\"1\" class=\"dataframe\">\n",
       "  <thead>\n",
       "    <tr style=\"text-align: right;\">\n",
       "      <th></th>\n",
       "      <th>retweet_count</th>\n",
       "      <th>favorite_count</th>\n",
       "    </tr>\n",
       "    <tr>\n",
       "      <th>name</th>\n",
       "      <th></th>\n",
       "      <th></th>\n",
       "    </tr>\n",
       "  </thead>\n",
       "  <tbody>\n",
       "    <tr>\n",
       "      <th>Named</th>\n",
       "      <td>3321008.0</td>\n",
       "      <td>10384141.0</td>\n",
       "    </tr>\n",
       "    <tr>\n",
       "      <th>Unnamed</th>\n",
       "      <td>1255867.0</td>\n",
       "      <td>3345189.0</td>\n",
       "    </tr>\n",
       "  </tbody>\n",
       "</table>\n",
       "</div>"
      ],
      "text/plain": [
       "         retweet_count  favorite_count\n",
       "name                                  \n",
       "Named        3321008.0      10384141.0\n",
       "Unnamed      1255867.0       3345189.0"
      ]
     },
     "execution_count": 66,
     "metadata": {},
     "output_type": "execute_result"
    }
   ],
   "source": [
    "table1 = breed_score.groupby(['name'])[['retweet_count','favorite_count']].sum()\n",
    "table1"
   ]
  },
  {
   "cell_type": "code",
   "execution_count": 67,
   "metadata": {},
   "outputs": [
    {
     "data": {
      "text/plain": [
       "<matplotlib.legend.Legend at 0x1175643c8>"
      ]
     },
     "execution_count": 67,
     "metadata": {},
     "output_type": "execute_result"
    },
    {
     "data": {
      "image/png": "[encoded data removed]",
      "text/plain": [
       "<Figure size 576x576 with 1 Axes>"
      ]
     },
     "metadata": {},
     "output_type": "display_data"
    }
   ],
   "source": [
    "plt.figure(figsize=(8,8))\n",
    "plt.title('Which Has More Retweet and Favorite Counts')\n",
    "plt.xlabel('Retweet and Favorite')\n",
    "plt.ylabel('Counts')\n",
    "\n",
    "name_list = table1.columns.tolist()\n",
    "named = table1.loc['Named'].values\n",
    "unnamed = table1.loc['Unnamed'].values\n",
    "ind = np.arange(len(named))  # the x locations for the groups\n",
    "width = 0.3  # the width of the bars\n",
    "\n",
    "plt.bar(ind-width/2, named, width, color='SkyBlue', label='Named')\n",
    "plt.bar(ind+width/2, unnamed, width, color='IndianRed', label='Unnamed')\n",
    "plt.xticks(ind, name_list)\n",
    "plt.legend()"
   ]
  },
  {
   "cell_type": "markdown",
   "metadata": {},
   "source": [
    "有名字的狗的转发数和点赞数都要高于没有名字的狗。"
   ]
  },
  {
   "cell_type": "markdown",
   "metadata": {},
   "source": [
    "### 问题四：一天中哪一个时间段twitter的活跃度更高（取前五名）"
   ]
  },
  {
   "cell_type": "code",
   "execution_count": 68,
   "metadata": {},
   "outputs": [
    {
     "data": {
      "text/plain": [
       "hour\n",
       "1     321\n",
       "0     285\n",
       "2     250\n",
       "16    210\n",
       "3     197\n",
       "Name: tweet_id, dtype: int64"
      ]
     },
     "execution_count": 68,
     "metadata": {},
     "output_type": "execute_result"
    }
   ],
   "source": [
    "activity_hour = twitter_clean.groupby(['hour'])['tweet_id'].count().sort_values(ascending=False).head()\n",
    "activity_hour"
   ]
  },
  {
   "cell_type": "code",
   "execution_count": 69,
   "metadata": {},
   "outputs": [
    {
     "data": {
      "image/png": "[encoded data removed]",
      "text/plain": [
       "<Figure size 864x576 with 1 Axes>"
      ]
     },
     "metadata": {},
     "output_type": "display_data"
    }
   ],
   "source": [
    "plt.figure(figsize=(12, 8))\n",
    "plt.title(\"Activity Hour Top5\")\n",
    "plt.xlabel('Activity Hour')\n",
    "plt.ylabel('Counts')\n",
    "X = activity_hour.index.values.astype(str)\n",
    "Y = activity_hour.values\n",
    "plt.bar(X, Y, width=0.3)\n",
    "for i,(x,y) in enumerate(zip(X, Y)):\n",
    "    plt.text(x, y+0.5, \"%.2f\" %y)"
   ]
  },
  {
   "cell_type": "markdown",
   "metadata": {},
   "source": [
    "一天中用户活跃度最高的时间的前五名分别是：\n",
    "- 1:00，321\n",
    "- 0:00，285\n",
    "- 2:00，250\n",
    "- 16:00，210\n",
    "- 3:00，197"
   ]
  },
  {
   "cell_type": "code",
   "execution_count": 70,
   "metadata": {},
   "outputs": [],
   "source": [
    "table_named = breed_score[breed_score.name=='Named']\n",
    "table_unnamed = breed_score[breed_score.name=='Unnamed']"
   ]
  },
  {
   "cell_type": "code",
   "execution_count": 71,
   "metadata": {},
   "outputs": [
    {
     "data": {
      "text/plain": [
       "<matplotlib.legend.Legend at 0x1175a14a8>"
      ]
     },
     "execution_count": 71,
     "metadata": {},
     "output_type": "execute_result"
    },
    {
     "data": {
      "image/png": "[encoded data removed]",
      "text/plain": [
       "<Figure size 720x720 with 1 Axes>"
      ]
     },
     "metadata": {},
     "output_type": "display_data"
    }
   ],
   "source": [
    "plt.figure(figsize=(10,10))\n",
    "plt.title('Retweet and Favorite')\n",
    "plt.xlabel('Favorite Count')\n",
    "plt.ylabel('Retweet Count')\n",
    "\n",
    "x_named = table_named.groupby(['p1'])['favorite_count'].sum()\n",
    "y_named = table_named.groupby(['p1'])['retweet_count'].sum()\n",
    "area_named = table_named.groupby(['p1'])['tweet_id'].count()*10\n",
    "plt.scatter(x_named, y_named, s=area_named, c='orange', alpha=0.5, label='Named')\n",
    "\n",
    "x_unnamed = table_unnamed.groupby(['p1'])['favorite_count'].sum()\n",
    "y_unnamed = table_unnamed.groupby(['p1'])['retweet_count'].sum()\n",
    "area_unnamed = table_unnamed.groupby(['p1'])['tweet_id'].count()*10\n",
    "plt.scatter(x_unnamed, y_unnamed, s=area_unnamed, c='royalblue', alpha=0.5, label='Unnamed')\n",
    "\n",
    "plt.legend()"
   ]
  },
  {
   "cell_type": "markdown",
   "metadata": {},
   "source": [
    "通过上图能够看出\n",
    "- 点赞数和转发数大体上呈正相关趋势。\n",
    "- 圆圈的大小代表出现的次数。出现次数较多的狗，favorite和retweet值也相应增加。\n",
    "- 从分布上看，未命名的狗点赞数和转发数要少于有名字的狗。其中一个原因可能是有名字的狗受到的照料要好于未命名的狗，外观上可能更容易引人喜欢。"
   ]
  },
  {
   "cell_type": "code",
   "execution_count": null,
   "metadata": {},
   "outputs": [],
   "source": []
  }
 ],
 "metadata": {
  "kernelspec": {
   "display_name": "Python 3",
   "language": "python",
   "name": "python3"
  },
  "language_info": {
   "codemirror_mode": {
    "name": "ipython",
    "version": 3
   },
   "file_extension": ".py",
   "mimetype": "text/x-python",
   "name": "python",
   "nbconvert_exporter": "python",
   "pygments_lexer": "ipython3",
   "version": "3.6.5"
  }
 },
 "nbformat": 4,
 "nbformat_minor": 2
}
